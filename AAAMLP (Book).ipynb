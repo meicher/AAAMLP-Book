{
 "cells": [
  {
   "cell_type": "markdown",
   "metadata": {},
   "source": [
    "# Chapter 1: Supervised vs Unsupervised"
   ]
  },
  {
   "cell_type": "code",
   "execution_count": 1,
   "metadata": {},
   "outputs": [],
   "source": [
    "import matplotlib.pyplot as plt\n",
    "import numpy as np\n",
    "import pandas as pd\n",
    "import seaborn as sns\n",
    "from sklearn import datasets\n",
    "from sklearn import manifold #this is for t-SNE\n",
    "\n",
    "%matplotlib inline"
   ]
  },
  {
   "cell_type": "code",
   "execution_count": 3,
   "metadata": {},
   "outputs": [],
   "source": [
    "#get the playground dataset from sklearn, convert target to str. features are 784 pixel points for 70k images\n",
    "data = datasets.fetch_openml('mnist_784',\n",
    "                            version=1,\n",
    "                            return_X_y=True)\n",
    "pixel_values,targets = data\n",
    "targets=targets.astype(int)"
   ]
  },
  {
   "cell_type": "code",
   "execution_count": 25,
   "metadata": {},
   "outputs": [
    {
     "data": {
      "text/plain": [
       "<matplotlib.image.AxesImage at 0x161dd8c4f10>"
      ]
     },
     "execution_count": 25,
     "metadata": {},
     "output_type": "execute_result"
    },
    {
     "data": {
      "image/png": "[encoded data removed]",
      "text/plain": [
       "<Figure size 432x288 with 1 Axes>"
      ]
     },
     "metadata": {
      "needs_background": "light"
     },
     "output_type": "display_data"
    }
   ],
   "source": [
    "#visualize the samples - by reshaping and using plt\n",
    "\n",
    "single_image = pixel_values[1,:].reshape(28,28)\n",
    "plt.imshow(single_image,cmap='gray')"
   ]
  },
  {
   "cell_type": "code",
   "execution_count": 28,
   "metadata": {},
   "outputs": [],
   "source": [
    "#create a t-SNE transformation of the data\n",
    "  # 2 components allows to visualize in 2 dim setting easily, first 3k examples\n",
    "    #creates an array of 3000 rows and 2 columns\n",
    "tsne=manifold.TSNE(n_components=2,random_state=42)\n",
    "\n",
    "transformed_data = tsne.fit_transform(pixel_values[:3000,:])"
   ]
  },
  {
   "cell_type": "code",
   "execution_count": 45,
   "metadata": {},
   "outputs": [],
   "source": [
    "#convert to pd dataframe (stack columns next to one another [concat would be used if they were dfs/series])\n",
    "tsne_df = pd.DataFrame(\n",
    "    np.column_stack((transformed_data,targets[:3000])),\n",
    "    columns=['x','y','targets'])\n",
    "\n",
    "tsne_df.loc[:,'targets'] = tsne_df.targets.astype(int)"
   ]
  },
  {
   "cell_type": "code",
   "execution_count": 46,
   "metadata": {},
   "outputs": [
    {
     "data": {
      "text/html": [
       "<div>\n",
       "<style scoped>\n",
       "    .dataframe tbody tr th:only-of-type {\n",
       "        vertical-align: middle;\n",
       "    }\n",
       "\n",
       "    .dataframe tbody tr th {\n",
       "        vertical-align: top;\n",
       "    }\n",
       "\n",
       "    .dataframe thead th {\n",
       "        text-align: right;\n",
       "    }\n",
       "</style>\n",
       "<table border=\"1\" class=\"dataframe\">\n",
       "  <thead>\n",
       "    <tr style=\"text-align: right;\">\n",
       "      <th></th>\n",
       "      <th>x</th>\n",
       "      <th>y</th>\n",
       "      <th>targets</th>\n",
       "    </tr>\n",
       "  </thead>\n",
       "  <tbody>\n",
       "    <tr>\n",
       "      <th>0</th>\n",
       "      <td>-5.281551</td>\n",
       "      <td>-28.952768</td>\n",
       "      <td>5</td>\n",
       "    </tr>\n",
       "    <tr>\n",
       "      <th>1</th>\n",
       "      <td>-26.105896</td>\n",
       "      <td>-68.069321</td>\n",
       "      <td>0</td>\n",
       "    </tr>\n",
       "    <tr>\n",
       "      <th>2</th>\n",
       "      <td>-42.503582</td>\n",
       "      <td>35.580391</td>\n",
       "      <td>4</td>\n",
       "    </tr>\n",
       "    <tr>\n",
       "      <th>3</th>\n",
       "      <td>38.893967</td>\n",
       "      <td>26.663395</td>\n",
       "      <td>1</td>\n",
       "    </tr>\n",
       "    <tr>\n",
       "      <th>4</th>\n",
       "      <td>-14.770573</td>\n",
       "      <td>35.433247</td>\n",
       "      <td>9</td>\n",
       "    </tr>\n",
       "    <tr>\n",
       "      <th>...</th>\n",
       "      <td>...</td>\n",
       "      <td>...</td>\n",
       "      <td>...</td>\n",
       "    </tr>\n",
       "    <tr>\n",
       "      <th>2995</th>\n",
       "      <td>9.038110</td>\n",
       "      <td>58.850792</td>\n",
       "      <td>7</td>\n",
       "    </tr>\n",
       "    <tr>\n",
       "      <th>2996</th>\n",
       "      <td>-29.405334</td>\n",
       "      <td>-60.951775</td>\n",
       "      <td>0</td>\n",
       "    </tr>\n",
       "    <tr>\n",
       "      <th>2997</th>\n",
       "      <td>13.466378</td>\n",
       "      <td>47.369007</td>\n",
       "      <td>9</td>\n",
       "    </tr>\n",
       "    <tr>\n",
       "      <th>2998</th>\n",
       "      <td>-2.435752</td>\n",
       "      <td>7.983772</td>\n",
       "      <td>1</td>\n",
       "    </tr>\n",
       "    <tr>\n",
       "      <th>2999</th>\n",
       "      <td>-4.248264</td>\n",
       "      <td>-13.266910</td>\n",
       "      <td>5</td>\n",
       "    </tr>\n",
       "  </tbody>\n",
       "</table>\n",
       "<p>3000 rows × 3 columns</p>\n",
       "</div>"
      ],
      "text/plain": [
       "              x          y  targets\n",
       "0     -5.281551 -28.952768        5\n",
       "1    -26.105896 -68.069321        0\n",
       "2    -42.503582  35.580391        4\n",
       "3     38.893967  26.663395        1\n",
       "4    -14.770573  35.433247        9\n",
       "...         ...        ...      ...\n",
       "2995   9.038110  58.850792        7\n",
       "2996 -29.405334 -60.951775        0\n",
       "2997  13.466378  47.369007        9\n",
       "2998  -2.435752   7.983772        1\n",
       "2999  -4.248264 -13.266910        5\n",
       "\n",
       "[3000 rows x 3 columns]"
      ]
     },
     "execution_count": 46,
     "metadata": {},
     "output_type": "execute_result"
    }
   ],
   "source": [
    "#represents tsne components and targets \n",
    "tsne_df"
   ]
  },
  {
   "cell_type": "code",
   "execution_count": 52,
   "metadata": {},
   "outputs": [
    {
     "data": {
      "text/plain": [
       "<seaborn.axisgrid.FacetGrid at 0x161e0278100>"
      ]
     },
     "execution_count": 52,
     "metadata": {},
     "output_type": "execute_result"
    },
    {
     "data": {
      "image/png": "[encoded data removed]",
      "text/plain": [
       "<Figure size 619.625x576 with 1 Axes>"
      ]
     },
     "metadata": {
      "needs_background": "light"
     },
     "output_type": "display_data"
    }
   ],
   "source": [
    "# plot using seaborn / plt\n",
    "\n",
    "grid=sns.FacetGrid(tsne_df,hue='targets',height=8)\n",
    "\n",
    "grid.map(plt.scatter,'x','y').add_legend()"
   ]
  },
  {
   "cell_type": "markdown",
   "metadata": {},
   "source": [
    "# Chapter 2: Cross Validation (and overfitting)"
   ]
  },
  {
   "cell_type": "markdown",
   "metadata": {},
   "source": [
    "##### cross-validation is a step in the process of building a machine learning model which helps us ensure that our models fit the data accurately and also ensures that we do not overfit."
   ]
  },
  {
   "cell_type": "code",
   "execution_count": 2,
   "metadata": {},
   "outputs": [],
   "source": [
    "import pandas as pd\n",
    "\n",
    "#   dataset from here: \n",
    "#     https://archive.ics.uci.edu/ml/machine-learning-databases/wine-quality/\n",
    "\n",
    "df=pd.read_csv('Downloads/winequality-red.csv',sep=';')"
   ]
  },
  {
   "cell_type": "code",
   "execution_count": 3,
   "metadata": {},
   "outputs": [
    {
     "data": {
      "text/html": [
       "<div>\n",
       "<style scoped>\n",
       "    .dataframe tbody tr th:only-of-type {\n",
       "        vertical-align: middle;\n",
       "    }\n",
       "\n",
       "    .dataframe tbody tr th {\n",
       "        vertical-align: top;\n",
       "    }\n",
       "\n",
       "    .dataframe thead th {\n",
       "        text-align: right;\n",
       "    }\n",
       "</style>\n",
       "<table border=\"1\" class=\"dataframe\">\n",
       "  <thead>\n",
       "    <tr style=\"text-align: right;\">\n",
       "      <th></th>\n",
       "      <th>fixed acidity</th>\n",
       "      <th>volatile acidity</th>\n",
       "      <th>citric acid</th>\n",
       "      <th>residual sugar</th>\n",
       "      <th>chlorides</th>\n",
       "      <th>free sulfur dioxide</th>\n",
       "      <th>total sulfur dioxide</th>\n",
       "      <th>density</th>\n",
       "      <th>pH</th>\n",
       "      <th>sulphates</th>\n",
       "      <th>alcohol</th>\n",
       "      <th>quality</th>\n",
       "    </tr>\n",
       "  </thead>\n",
       "  <tbody>\n",
       "    <tr>\n",
       "      <th>0</th>\n",
       "      <td>7.4</td>\n",
       "      <td>0.700</td>\n",
       "      <td>0.00</td>\n",
       "      <td>1.9</td>\n",
       "      <td>0.076</td>\n",
       "      <td>11.0</td>\n",
       "      <td>34.0</td>\n",
       "      <td>0.99780</td>\n",
       "      <td>3.51</td>\n",
       "      <td>0.56</td>\n",
       "      <td>9.4</td>\n",
       "      <td>5</td>\n",
       "    </tr>\n",
       "    <tr>\n",
       "      <th>1</th>\n",
       "      <td>7.8</td>\n",
       "      <td>0.880</td>\n",
       "      <td>0.00</td>\n",
       "      <td>2.6</td>\n",
       "      <td>0.098</td>\n",
       "      <td>25.0</td>\n",
       "      <td>67.0</td>\n",
       "      <td>0.99680</td>\n",
       "      <td>3.20</td>\n",
       "      <td>0.68</td>\n",
       "      <td>9.8</td>\n",
       "      <td>5</td>\n",
       "    </tr>\n",
       "    <tr>\n",
       "      <th>2</th>\n",
       "      <td>7.8</td>\n",
       "      <td>0.760</td>\n",
       "      <td>0.04</td>\n",
       "      <td>2.3</td>\n",
       "      <td>0.092</td>\n",
       "      <td>15.0</td>\n",
       "      <td>54.0</td>\n",
       "      <td>0.99700</td>\n",
       "      <td>3.26</td>\n",
       "      <td>0.65</td>\n",
       "      <td>9.8</td>\n",
       "      <td>5</td>\n",
       "    </tr>\n",
       "    <tr>\n",
       "      <th>3</th>\n",
       "      <td>11.2</td>\n",
       "      <td>0.280</td>\n",
       "      <td>0.56</td>\n",
       "      <td>1.9</td>\n",
       "      <td>0.075</td>\n",
       "      <td>17.0</td>\n",
       "      <td>60.0</td>\n",
       "      <td>0.99800</td>\n",
       "      <td>3.16</td>\n",
       "      <td>0.58</td>\n",
       "      <td>9.8</td>\n",
       "      <td>6</td>\n",
       "    </tr>\n",
       "    <tr>\n",
       "      <th>4</th>\n",
       "      <td>7.4</td>\n",
       "      <td>0.700</td>\n",
       "      <td>0.00</td>\n",
       "      <td>1.9</td>\n",
       "      <td>0.076</td>\n",
       "      <td>11.0</td>\n",
       "      <td>34.0</td>\n",
       "      <td>0.99780</td>\n",
       "      <td>3.51</td>\n",
       "      <td>0.56</td>\n",
       "      <td>9.4</td>\n",
       "      <td>5</td>\n",
       "    </tr>\n",
       "    <tr>\n",
       "      <th>...</th>\n",
       "      <td>...</td>\n",
       "      <td>...</td>\n",
       "      <td>...</td>\n",
       "      <td>...</td>\n",
       "      <td>...</td>\n",
       "      <td>...</td>\n",
       "      <td>...</td>\n",
       "      <td>...</td>\n",
       "      <td>...</td>\n",
       "      <td>...</td>\n",
       "      <td>...</td>\n",
       "      <td>...</td>\n",
       "    </tr>\n",
       "    <tr>\n",
       "      <th>1594</th>\n",
       "      <td>6.2</td>\n",
       "      <td>0.600</td>\n",
       "      <td>0.08</td>\n",
       "      <td>2.0</td>\n",
       "      <td>0.090</td>\n",
       "      <td>32.0</td>\n",
       "      <td>44.0</td>\n",
       "      <td>0.99490</td>\n",
       "      <td>3.45</td>\n",
       "      <td>0.58</td>\n",
       "      <td>10.5</td>\n",
       "      <td>5</td>\n",
       "    </tr>\n",
       "    <tr>\n",
       "      <th>1595</th>\n",
       "      <td>5.9</td>\n",
       "      <td>0.550</td>\n",
       "      <td>0.10</td>\n",
       "      <td>2.2</td>\n",
       "      <td>0.062</td>\n",
       "      <td>39.0</td>\n",
       "      <td>51.0</td>\n",
       "      <td>0.99512</td>\n",
       "      <td>3.52</td>\n",
       "      <td>0.76</td>\n",
       "      <td>11.2</td>\n",
       "      <td>6</td>\n",
       "    </tr>\n",
       "    <tr>\n",
       "      <th>1596</th>\n",
       "      <td>6.3</td>\n",
       "      <td>0.510</td>\n",
       "      <td>0.13</td>\n",
       "      <td>2.3</td>\n",
       "      <td>0.076</td>\n",
       "      <td>29.0</td>\n",
       "      <td>40.0</td>\n",
       "      <td>0.99574</td>\n",
       "      <td>3.42</td>\n",
       "      <td>0.75</td>\n",
       "      <td>11.0</td>\n",
       "      <td>6</td>\n",
       "    </tr>\n",
       "    <tr>\n",
       "      <th>1597</th>\n",
       "      <td>5.9</td>\n",
       "      <td>0.645</td>\n",
       "      <td>0.12</td>\n",
       "      <td>2.0</td>\n",
       "      <td>0.075</td>\n",
       "      <td>32.0</td>\n",
       "      <td>44.0</td>\n",
       "      <td>0.99547</td>\n",
       "      <td>3.57</td>\n",
       "      <td>0.71</td>\n",
       "      <td>10.2</td>\n",
       "      <td>5</td>\n",
       "    </tr>\n",
       "    <tr>\n",
       "      <th>1598</th>\n",
       "      <td>6.0</td>\n",
       "      <td>0.310</td>\n",
       "      <td>0.47</td>\n",
       "      <td>3.6</td>\n",
       "      <td>0.067</td>\n",
       "      <td>18.0</td>\n",
       "      <td>42.0</td>\n",
       "      <td>0.99549</td>\n",
       "      <td>3.39</td>\n",
       "      <td>0.66</td>\n",
       "      <td>11.0</td>\n",
       "      <td>6</td>\n",
       "    </tr>\n",
       "  </tbody>\n",
       "</table>\n",
       "<p>1599 rows × 12 columns</p>\n",
       "</div>"
      ],
      "text/plain": [
       "      fixed acidity  volatile acidity  citric acid  residual sugar  chlorides  \\\n",
       "0               7.4             0.700         0.00             1.9      0.076   \n",
       "1               7.8             0.880         0.00             2.6      0.098   \n",
       "2               7.8             0.760         0.04             2.3      0.092   \n",
       "3              11.2             0.280         0.56             1.9      0.075   \n",
       "4               7.4             0.700         0.00             1.9      0.076   \n",
       "...             ...               ...          ...             ...        ...   \n",
       "1594            6.2             0.600         0.08             2.0      0.090   \n",
       "1595            5.9             0.550         0.10             2.2      0.062   \n",
       "1596            6.3             0.510         0.13             2.3      0.076   \n",
       "1597            5.9             0.645         0.12             2.0      0.075   \n",
       "1598            6.0             0.310         0.47             3.6      0.067   \n",
       "\n",
       "      free sulfur dioxide  total sulfur dioxide  density    pH  sulphates  \\\n",
       "0                    11.0                  34.0  0.99780  3.51       0.56   \n",
       "1                    25.0                  67.0  0.99680  3.20       0.68   \n",
       "2                    15.0                  54.0  0.99700  3.26       0.65   \n",
       "3                    17.0                  60.0  0.99800  3.16       0.58   \n",
       "4                    11.0                  34.0  0.99780  3.51       0.56   \n",
       "...                   ...                   ...      ...   ...        ...   \n",
       "1594                 32.0                  44.0  0.99490  3.45       0.58   \n",
       "1595                 39.0                  51.0  0.99512  3.52       0.76   \n",
       "1596                 29.0                  40.0  0.99574  3.42       0.75   \n",
       "1597                 32.0                  44.0  0.99547  3.57       0.71   \n",
       "1598                 18.0                  42.0  0.99549  3.39       0.66   \n",
       "\n",
       "      alcohol  quality  \n",
       "0         9.4        5  \n",
       "1         9.8        5  \n",
       "2         9.8        5  \n",
       "3         9.8        6  \n",
       "4         9.4        5  \n",
       "...       ...      ...  \n",
       "1594     10.5        5  \n",
       "1595     11.2        6  \n",
       "1596     11.0        6  \n",
       "1597     10.2        5  \n",
       "1598     11.0        6  \n",
       "\n",
       "[1599 rows x 12 columns]"
      ]
     },
     "execution_count": 3,
     "metadata": {},
     "output_type": "execute_result"
    }
   ],
   "source": [
    "df"
   ]
  },
  {
   "cell_type": "code",
   "execution_count": 4,
   "metadata": {},
   "outputs": [],
   "source": [
    "#map quality to more understandable 0-5\n",
    "quality_mapping={\n",
    "    3:0,\n",
    "    4:1,\n",
    "    5:2,\n",
    "    6:3,\n",
    "    7:4,\n",
    "    8:5\n",
    "}\n",
    "\n",
    "#use the map function of pandas w any dict to convert the values in a given column to values in dict\n",
    "df.loc[:,'quality']=df['quality'].map(quality_mapping)"
   ]
  },
  {
   "cell_type": "code",
   "execution_count": 5,
   "metadata": {},
   "outputs": [
    {
     "data": {
      "text/plain": [
       "<AxesSubplot:>"
      ]
     },
     "execution_count": 5,
     "metadata": {},
     "output_type": "execute_result"
    },
    {
     "data": {
      "image/png": "[encoded data removed]",
      "text/plain": [
       "<Figure size 432x288 with 1 Axes>"
      ]
     },
     "metadata": {
      "needs_background": "light"
     },
     "output_type": "display_data"
    }
   ],
   "source": [
    "df['quality'].hist()"
   ]
  },
  {
   "cell_type": "code",
   "execution_count": 10,
   "metadata": {},
   "outputs": [],
   "source": [
    "# we use sample w/ frac=1 to shuffle the dataframe, and reset indices that change after\n",
    "df = df.sample(frac=1).reset_index(drop=True)\n",
    "\n",
    "#simple split of train/test set (not the advised way)\n",
    "df_train = df.head(1000)\n",
    "df_test=df.tail(599)"
   ]
  },
  {
   "cell_type": "code",
   "execution_count": 11,
   "metadata": {},
   "outputs": [
    {
     "data": {
      "text/plain": [
       "DecisionTreeClassifier(max_depth=3)"
      ]
     },
     "execution_count": 11,
     "metadata": {},
     "output_type": "execute_result"
    }
   ],
   "source": [
    "# train a decision tree model \n",
    "\n",
    "from sklearn import tree\n",
    "from sklearn import metrics\n",
    "\n",
    "#init tree classifier & train\n",
    "\n",
    "clf = tree.DecisionTreeClassifier(max_depth=3)\n",
    "\n",
    "cols = ['fixed acidity','volatile acidity','citric acid','residual sugar','chlorides','free sulfur dioxide',\n",
    "       'total sulfur dioxide','density','pH','sulphates','alcohol']\n",
    "\n",
    "clf.fit(df_train[cols],df_train['quality'])"
   ]
  },
  {
   "cell_type": "code",
   "execution_count": 15,
   "metadata": {},
   "outputs": [],
   "source": [
    "# test the accuracy of this model\n",
    "train_predictions = clf.predict(df_train[cols])\n",
    "test_predictions = clf.predict(df_test[cols])\n",
    "\n",
    "#60% and 54% accuracy roughly.\n",
    "# if we increase max depth, we get better train results but the test results stay about the same or get worse -- i.e. overfit\n",
    "train_accuracy = metrics.accuracy_score(df_train.quality,train_predictions)\n",
    "test_accuracy = metrics.accuracy_score(df_test.quality,test_predictions)"
   ]
  },
  {
   "cell_type": "code",
   "execution_count": 18,
   "metadata": {},
   "outputs": [],
   "source": [
    "#lets plot at different max depths\n",
    "\n",
    "import matplotlib\n",
    "import matplotlib.pyplot as plt\n",
    "import seaborn as sns\n",
    "\n",
    "#global size of label text\n",
    "matplotlib.rc('xtick',labelsize=20)\n",
    "matplotlib.rc('ytick',labelsize=20)\n",
    "\n",
    "#this line ensures the plot is displayed inside notebook\n",
    "%matplotlib inline\n",
    "\n",
    "#init lists to store accuracies\n",
    "train_accuracies = [0.5]\n",
    "test_accuracies = [0.5]\n",
    "\n",
    "#iterate over depth values\n",
    "for depth in range(1,25):\n",
    "    \n",
    "    clf=tree.DecisionTreeClassifier(max_depth=depth)\n",
    "    \n",
    "    clf.fit(df_train[cols],df_train.quality)\n",
    "    \n",
    "    train_predictions = clf.predict(df_train[cols])\n",
    "    test_predictions  = clf.predict(df_test[cols])\n",
    "    \n",
    "    train_accuracy = metrics.accuracy_score(df_train.quality,train_predictions)\n",
    "    test_accuracy = metrics.accuracy_score(df_test.quality,test_predictions)\n",
    "    \n",
    "    train_accuracies.append(train_accuracy)\n",
    "    test_accuracies.append(test_accuracy)"
   ]
  },
  {
   "cell_type": "code",
   "execution_count": 24,
   "metadata": {},
   "outputs": [
    {
     "data": {
      "image/png": "[encoded data removed]",
      "text/plain": [
       "<Figure size 720x360 with 1 Axes>"
      ]
     },
     "metadata": {},
     "output_type": "display_data"
    }
   ],
   "source": [
    "#plot that shows overfitting w/ increasing decision tree depths\n",
    "\n",
    "\n",
    "plt.figure(figsize=(10,5))\n",
    "sns.set_style('whitegrid')\n",
    "\n",
    "plt.plot(train_accuracies,label='train acc')\n",
    "plt.plot(test_accuracies,label='test acc')\n",
    "\n",
    "plt.legend(loc='upper left',prop={'size':15})\n",
    "\n",
    "plt.xticks(range(0,26,5))\n",
    "plt.xlabel('max_depth',size=20)\n",
    "plt.ylabel('accuracy',size=20)\n",
    "\n",
    "plt.show()"
   ]
  },
  {
   "cell_type": "markdown",
   "metadata": {},
   "source": [
    "### K-Fold Cross Validation"
   ]
  },
  {
   "cell_type": "code",
   "execution_count": 28,
   "metadata": {},
   "outputs": [],
   "source": [
    "import pandas as pd\n",
    "from sklearn import model_selection\n",
    "\n",
    "df=pd.read_csv('Downloads/winequality-red.csv',sep=';')\n",
    "df['kfold'] = -1\n",
    "\n",
    "df = df.sample(frac=1).reset_index(drop=True)\n",
    "\n",
    "kf=model_selection.KFold(n_splits=5)\n",
    "\n",
    "#fill the new kfold columns\n",
    "for fold,(trn_,val_) in enumerate(kf.split(X=df)):\n",
    "    df.loc[val_,'kfold'] = fold\n"
   ]
  },
  {
   "cell_type": "markdown",
   "metadata": {},
   "source": [
    "### STRATIFIED K-Fold Cross Validation (a better approach for imbalance)"
   ]
  },
  {
   "cell_type": "code",
   "execution_count": 30,
   "metadata": {},
   "outputs": [],
   "source": [
    "import pandas as pd\n",
    "from sklearn import model_selection\n",
    "\n",
    "df=pd.read_csv('Downloads/winequality-red.csv',sep=';')\n",
    "df['kfold'] = -1\n",
    "\n",
    "df = df.sample(frac=1).reset_index(drop=True)\n",
    "\n",
    "y = df.quality\n",
    "\n",
    "kf=model_selection.StratifiedKFold(n_splits=5)\n",
    "\n",
    "#fill the new kfold columns\n",
    "for fold,(trn_,val_) in enumerate(kf.split(X=df,y=y)):\n",
    "    df.loc[val_,'kfold'] = fold"
   ]
  },
  {
   "cell_type": "code",
   "execution_count": 34,
   "metadata": {},
   "outputs": [
    {
     "data": {
      "text/plain": [
       "<AxesSubplot:>"
      ]
     },
     "execution_count": 34,
     "metadata": {},
     "output_type": "execute_result"
    },
    {
     "data": {
      "image/png": "[encoded data removed]",
      "text/plain": [
       "<Figure size 432x288 with 1 Axes>"
      ]
     },
     "metadata": {},
     "output_type": "display_data"
    }
   ],
   "source": [
    "#the wine data set is a good example of a skewed target distribution \n",
    "    # we have a a lot of samples and some dont have many labels -- if we do simple k fold, we dont have an equal dist of targets\n",
    "    # in each fold -- thus we choose stratified k fold\n",
    "df.quality.hist()"
   ]
  },
  {
   "cell_type": "markdown",
   "metadata": {},
   "source": [
    "### Stratified K fold for Regression "
   ]
  },
  {
   "cell_type": "code",
   "execution_count": 29,
   "metadata": {},
   "outputs": [],
   "source": [
    "import numpy as np\n",
    "import pandas as pd\n",
    "from sklearn import datasets\n",
    "from sklearn import model_selection\n",
    "\n",
    "def create_folds(data):\n",
    "    \n",
    "    #create placeholder column\n",
    "    data['kfold'] = -1\n",
    "    \n",
    "    data = data.sample(frac=1).reset_index(drop=True)\n",
    "    \n",
    "    #calc number of bins via Sturge Rule\n",
    "    #take the floor of value, you can also just round it\n",
    "    num_bins = int(np.floor(1+ np.log2(len(data))))\n",
    "    \n",
    "    #bin targets\n",
    "    data.loc[:,'bins'] = pd.cut(data['target'],bins=num_bins,labels=False)\n",
    "    \n",
    "    #init k folds \n",
    "    kf = model_selection.StratifiedKFold(n_splits=5)\n",
    "    \n",
    "    for f,(t,v) in enumerate(kf.split(X=data,y=data['bins'].values)):\n",
    "        data.loc[v,'kfold']=f\n",
    "    \n",
    "    #drop bins column\n",
    "    data=data.drop('bins',axis=1)\n",
    "    \n",
    "    return data\n",
    "\n",
    "if __name__ == \"__main__\":\n",
    "    #we create a sample dataset w/ 15000 samples and 100 features\n",
    "         # interesting way to create dataset from sklearn.datasets below\n",
    "    X,y, = datasets.make_regression(\n",
    "        n_samples=15000,n_features=100,n_targets=1)\n",
    "    \n",
    "    #create df from the np arrays\n",
    "    df = pd.DataFrame(X,\n",
    "                     columns=[f\"f_{i}\" for i in range(X.shape[1])]\n",
    "                     )\n",
    "    df.loc[:,'target']=y\n",
    "    \n",
    "    #create folds\n",
    "    df = create_folds(df)"
   ]
  },
  {
   "cell_type": "markdown",
   "metadata": {},
   "source": [
    "# Chapter 3: Evaluation Metrics"
   ]
  },
  {
   "cell_type": "markdown",
   "metadata": {},
   "source": [
    "### Knowing when to use which metric is important -- usually more about the targets and less about the data"
   ]
  },
  {
   "cell_type": "markdown",
   "metadata": {},
   "source": [
    "#### accuracy: only suitable metrics to use when we have an equal number of positive & negative samples in binary classification problem"
   ]
  },
  {
   "cell_type": "code",
   "execution_count": 46,
   "metadata": {},
   "outputs": [],
   "source": [
    "#accuracy\n",
    "from sklearn import metrics\n",
    "\n",
    "l1=[0,1,1,1,0,0,0,1]\n",
    "l2=[0,1,0,1,0,1,0,0]\n",
    "\n",
    "metrics.accuracy_score(l1,l2)\n",
    "\n",
    "\n",
    "# a pythonic way to calculate accuracy\n",
    "def acc(ytrue,ypred):\n",
    "    \"\"\"\n",
    "    fxn to calculate accuracy\n",
    "    \"\"\"\n",
    "    \n",
    "    #init simple counter\n",
    "    counter=0\n",
    "    \n",
    "    #loop over elemeents of true and pred together\n",
    "    for yt,yp in zip(ytrue,ypred):\n",
    "        if yt==yp:\n",
    "            counter+=1\n",
    "    \n",
    "    return counter / len(ytrue)"
   ]
  },
  {
   "cell_type": "markdown",
   "metadata": {},
   "source": [
    "#### Precision: TP / (TP + FP)------------------------------\n",
    "  ##### How often is our model correct when trying to identify positive samples\n",
    "    \n",
    "#### Recall: TP / (TP + FN)----------------------------------\n",
    "   ##### how many positive samples were correctly identified?\n",
    "   ##### AKA True Positive Rate AKA Sensitivity\n",
    "\n",
    "#### F1: 2TP / (2TP + FP + FN)-----------------------------\n",
    "   ##### weighted avg of precision and recall\n",
    "   \n",
    "#### FPR: FP / (TN + FP)--------------------------------\n",
    "   ##### weighted avg of precision and recall\n",
    "   ##### AKA Specificity "
   ]
  },
  {
   "cell_type": "markdown",
   "metadata": {},
   "source": [
    "##  ROC AUC Curve (TPR / FPR curve)\n",
    "### adept at handling skewed distributions for classifications problems \n",
    "##### what does the AUC value mean? with the .83 AUC below, it means that if you select a random positive example, you have a probability of 0.83 to rank the example higher than a negative example ( also known as C-index or Concordance Index)"
   ]
  },
  {
   "cell_type": "code",
   "execution_count": 48,
   "metadata": {},
   "outputs": [
    {
     "data": {
      "text/plain": [
       "0.8300000000000001"
      ]
     },
     "execution_count": 48,
     "metadata": {},
     "output_type": "execute_result"
    }
   ],
   "source": [
    "from sklearn import metrics\n",
    "\n",
    "y_true = [0, 0, 0, 0, 1, 0, 1,0, 0, 1, 0, 1, 0, 0, 1]\n",
    "y_pred = [0.1, 0.3, 0.2, 0.6, 0.8, 0.05,0.9, 0.5, 0.3, 0.66, 0.3, 0.2,0.85, 0.15, 0.99]\n",
    "\n",
    "\n",
    "metrics.roc_auc_score(y_true,y_pred)"
   ]
  },
  {
   "cell_type": "markdown",
   "metadata": {},
   "source": [
    "##  Log Loss\n",
    "#### Log Loss = -1 * (target * log(prediction) + (1-target) * log(1-prediction))\n",
    "##### for many samples, log-loss over all samples is the avg of all individual log losses. \n",
    "##### log loss penalizes quite high for far off probabiltiy prediction (punish for being confidently incorrect).... it also punishes more than other metrics b/c it references the probability, instead of the result (i.e. 0.51 vs positive prediction)\n",
    "##### finally, not easy to interpret, but lower log loss is better for any given problem"
   ]
  },
  {
   "cell_type": "code",
   "execution_count": 50,
   "metadata": {},
   "outputs": [
    {
     "data": {
      "text/plain": [
       "0.49882711861432294"
      ]
     },
     "execution_count": 50,
     "metadata": {},
     "output_type": "execute_result"
    }
   ],
   "source": [
    "from sklearn import metrics\n",
    "metrics.log_loss(y_true,y_pred)"
   ]
  },
  {
   "cell_type": "markdown",
   "metadata": {},
   "source": [
    "### Confusion Matrix (seaborn)"
   ]
  },
  {
   "cell_type": "code",
   "execution_count": 4,
   "metadata": {},
   "outputs": [
    {
     "data": {
      "text/plain": [
       "Text(0.5, -3.5, 'Predicted Labels')"
      ]
     },
     "execution_count": 4,
     "metadata": {},
     "output_type": "execute_result"
    },
    {
     "data": {
      "image/png": "[encoded data removed]",
      "text/plain": [
       "<Figure size 432x288 with 1 Axes>"
      ]
     },
     "metadata": {},
     "output_type": "display_data"
    }
   ],
   "source": [
    "import matplotlib.pyplot as plt\n",
    "import seaborn as sns\n",
    "from sklearn import metrics\n",
    "\n",
    "y_true = [0, 1, 2, 0, 1, 2, 0, 2, 2]\n",
    "y_pred = [0, 2, 1, 0, 2, 1, 0, 0, 2]\n",
    "\n",
    "cm = metrics.confusion_matrix(y_true,y_pred)\n",
    "\n",
    "#plt.figure(figsize=(10,10))\n",
    "sns.set(font_scale=2.5)\n",
    "sns.heatmap(cm,annot=True,cbar=False)\n",
    "\n",
    "plt.ylabel('Actual Labels', fontsize=20)\n",
    "plt.xlabel('Predicted Labels', fontsize=20)"
   ]
  },
  {
   "cell_type": "markdown",
   "metadata": {},
   "source": [
    "## Regression Metrics"
   ]
  },
  {
   "cell_type": "code",
   "execution_count": 7,
   "metadata": {},
   "outputs": [],
   "source": [
    "# MAE\n",
    "\n",
    "import numpy as np\n",
    "\n",
    "def mae(yt,yp):\n",
    "    error=[]\n",
    "    for y,p in zip(yt,yp):\n",
    "        error.append(np.abs(y-p))\n",
    "    return sum(error)/len(yt)"
   ]
  },
  {
   "cell_type": "code",
   "execution_count": 21,
   "metadata": {},
   "outputs": [],
   "source": [
    "# MSE\n",
    "# MSE and RMSE are the most popular metrics used in eval of regression models\n",
    "def mse(yt,yp):\n",
    "    error=0\n",
    "    for y,p in zip(yt,yp):\n",
    "        error += (y-p)^2\n",
    "    return error / len(yt)\n",
    "\n",
    "def rmse(yt,yp):\n",
    "    error=0\n",
    "    for y,p in zip(yt,yp):\n",
    "        error += (y-p)^2\n",
    "    return np.sqrt(error / len(yt))"
   ]
  },
  {
   "cell_type": "code",
   "execution_count": 27,
   "metadata": {},
   "outputs": [],
   "source": [
    "# R2 -  Coefficient of Determination\n",
    "# put simply, how good your model fits the data (how much variation is explained by your model)\n",
    " #   1 - unexplained variation / total variation\n",
    "def r2(yt,yp):\n",
    "    \n",
    "    mean_true_value = np.mean(yt)\n",
    "    \n",
    "    numerator = 0\n",
    "    denominator = 0\n",
    "    \n",
    "    for y,p in zip(yt,yp):\n",
    "        \n",
    "        numerator += (y-p)**2\n",
    "        \n",
    "        denominator += (y - mean_true_value)**2\n",
    "    \n",
    "    ratio = numerator/denominator\n",
    "    \n",
    "    return 1 - ratio"
   ]
  },
  {
   "cell_type": "code",
   "execution_count": 29,
   "metadata": {},
   "outputs": [],
   "source": [
    "# Matthew's Correlation Coefficient (MCC)\n",
    "# range -1 to 1, takes into account TP, FP, TN, FN -- so can be used for skewed classes.\n",
    "\n",
    "# MCC = (TP*TN - FP*FN) / [ (TP+FP)*(FN+TN)*(FP+TN)*(TP+FN) ]** 0.5"
   ]
  },
  {
   "cell_type": "markdown",
   "metadata": {},
   "source": [
    "# Chapter 4: Arranging ML Projects"
   ]
  },
  {
   "cell_type": "code",
   "execution_count": 13,
   "metadata": {},
   "outputs": [],
   "source": [
    "# arrange project folder : [input, src (scripts), models, notebooks, readme, license]\n",
    "# first step when approaching ML project, decide the evaluation metric \n",
    "\n",
    "# example: create py scripts for model training\n",
    "\n",
    "#config.py---------------------------------\n",
    "#this will allow us to reference config files\n",
    "import os\n",
    "import config\n",
    "TRAINING_FILE = \"../input/mnist_train_folds.csv\"\n",
    "MODEL_OUTPUT = \"../models/\"\n",
    "\n",
    "\n",
    "#model_dispatcher.py-----------------------------\n",
    "#this allows us to pass model argument to command line to change the model flexibly\n",
    "from sklearn import ensemble\n",
    "from sklearn import tree\n",
    "\n",
    "models = {\n",
    " \"decision_tree_gini\": tree.DecisionTreeClassifier(\n",
    " criterion=\"gini\"\n",
    " ),\n",
    " \"decision_tree_entropy\": tree.DecisionTreeClassifier(\n",
    " criterion=\"entropy\"\n",
    " ),\n",
    " \"rf\": ensemble.RandomForestClassifier(),\n",
    "}\n",
    "\n",
    "\n",
    "#src/train.py--------------------------------\n",
    "import joblib\n",
    "import pandas as pd\n",
    "from sklearn import metrics\n",
    "import argparse\n",
    "\n",
    "def run(fold):\n",
    "    #importing config.TRAINING_FILE (which is a location reference)\n",
    "    df = pd.read_csv(config.TRAINING_FILE)\n",
    "    \n",
    "    #training data is where kfold not equal to provided fold\n",
    "    df_train = df[df.kfold != fold].reset_index(drop=True)\n",
    "    \n",
    "    #validation data is where they are equal\n",
    "    df_valid = df[df.kfold == fold].reset_index(drop=True)\n",
    "    \n",
    "    #drop the label column & convert to np array\n",
    "    x_train = df_train.drop('label',axis=1).values\n",
    "    y_train = df_train.label.values\n",
    "    \n",
    "    \n",
    "    x_valid = df_valid.drop('label',axis=1).values\n",
    "    y_valid = df_valid.label.values\n",
    "    \n",
    "    #init classifier -- importing model_dispatcher.models\n",
    "    clf = model_dispatcher.models[model]\n",
    "    \n",
    "    #fit model\n",
    "    clf.fit(x_train,y_train)\n",
    "    \n",
    "    preds = clf.predict(x_valid)\n",
    "    \n",
    "    accuracy = metrics.accuracy_score(y_valid,preds)\n",
    "    print(f\"Fold={fold}, Accuracy={accuracy}\")\n",
    "    \n",
    "    #save model\n",
    "    joblib.dump(\n",
    "        clf,\n",
    "        os.path.join(config.MODEL_OUTPUT,f\"dt_{fold}.bin\")\n",
    "    )\n",
    "\n",
    "#if __name__ == \"__main__\":\n",
    "#    parser = argparse.ArgumentParser()\n",
    "#    parser.add_argument(\"--fold\",type=int)\n",
    "#    parser.add_argument(\"--model\",type=str)\n",
    "#    args = parser.parse_args()\n",
    "#    run(fold=args.fold,model=args.model)\n",
    "\n",
    "#example command line run\n",
    "\n",
    "# > python train.py --fold 0 --model rf\n",
    "#fold=0, Accuracy = 0.96444444"
   ]
  },
  {
   "cell_type": "markdown",
   "metadata": {},
   "source": [
    "# Chapter 5: Approaching Categorical Variables"
   ]
  },
  {
   "cell_type": "code",
   "execution_count": 9,
   "metadata": {},
   "outputs": [],
   "source": [
    "# pg 85\n",
    "import pandas as pd\n",
    "import numpy as np\n",
    "\n",
    "df = pd.read_csv('cat_train.csv')\n",
    "#from https://www.kaggle.com/c/cat-in-the-dat-ii/overview"
   ]
  },
  {
   "cell_type": "code",
   "execution_count": 10,
   "metadata": {},
   "outputs": [],
   "source": [
    "#for ord_2 variable\n",
    "mapping = {\n",
    " \"Freezing\": 0,\n",
    " \"Warm\": 1,\n",
    " \"Cold\": 2,\n",
    " \"Boiling Hot\": 3,\n",
    " \"Hot\": 4,\n",
    " \"Lava Hot\": 5\n",
    "}"
   ]
  },
  {
   "cell_type": "code",
   "execution_count": 8,
   "metadata": {},
   "outputs": [],
   "source": [
    "#this is an example of label encoding (assigning a num to each category)\n",
    "df.loc[:,\"ord_2\"] = df.loc[:,\"ord_2\"].map(mapping)"
   ]
  },
  {
   "cell_type": "code",
   "execution_count": 13,
   "metadata": {},
   "outputs": [],
   "source": [
    "#scikit does this easier\n",
    "from sklearn import preprocessing\n",
    "\n",
    "df = pd.read_csv('cat_train.csv')\n",
    "#from https://www.kaggle.com/c/cat-in-the-dat-ii/overview\n",
    "\n",
    "# fill NaN values in ord_2 column (skikit doesnt like NAN)\n",
    "df.loc[:, \"ord_2\"] = df.ord_2.fillna(\"NONE\")\n",
    "\n",
    "#init\n",
    "lbl_enc = preprocessing.LabelEncoder()\n",
    "\n",
    "#fit label encoder & transform\n",
    "df.loc[:, \"ord_2\"] = lbl_enc.fit_transform(df.ord_2.values)"
   ]
  },
  {
   "cell_type": "code",
   "execution_count": 18,
   "metadata": {},
   "outputs": [],
   "source": [
    "#═══════════════════════════════\n",
    "\n",
    "# label encoding can be used directly in tree based models\n",
    "\n",
    "# however it cannot be used in linear models, SVM, or NNs as they expect data to be standardized.\n",
    "\n",
    "# for these types of models, binarize the data\n",
    "\n",
    "#Freezing --> 0 --> 0 0 0\n",
    "#Warm --> 1 --> 0 0 1\n",
    "#Cold --> 2 --> 0 1 0\n",
    "#Boiling Hot --> 3 --> 0 1 1\n",
    "#Hot --> 4 --> 1 0 0\n",
    "#Lava Hot --> 5 --> 1 0 1\n",
    "#═══════════════════════════════"
   ]
  },
  {
   "cell_type": "code",
   "execution_count": 19,
   "metadata": {},
   "outputs": [
    {
     "name": "stdout",
     "output_type": "stream",
     "text": [
      "36\n"
     ]
    }
   ],
   "source": [
    "#this binarization can be stored in a sparse matrix which is more efficient (only store 1s)\n",
    "\n",
    "#example\n",
    "import numpy as np\n",
    "\n",
    "# create our example feature matrix\n",
    "example = np.array(\n",
    " [\n",
    " [0, 0, 1],\n",
    " [1, 0, 0],\n",
    " [1, 0, 1]\n",
    " ]\n",
    ")\n",
    "# print size in bytes\n",
    "print(example.nbytes)"
   ]
  },
  {
   "cell_type": "code",
   "execution_count": 22,
   "metadata": {},
   "outputs": [
    {
     "name": "stdout",
     "output_type": "stream",
     "text": [
      "16\n"
     ]
    }
   ],
   "source": [
    "# any numpy array can be converted to sparse matrix by simple python code (this can be very useful w large NLP)\n",
    "\n",
    "from scipy import sparse\n",
    "\n",
    "#create example feature matrix\n",
    "example = np.array(\n",
    " [\n",
    " [0, 0, 1],\n",
    " [1, 0, 0],\n",
    " [1, 0, 1]\n",
    " ]\n",
    ")\n",
    "\n",
    "#convert to sparse\n",
    "sparse_example = sparse.csr_matrix(example)\n",
    "\n",
    "# print size of this sparse matrix\n",
    "print(sparse_example.data.nbytes)"
   ]
  },
  {
   "cell_type": "code",
   "execution_count": 29,
   "metadata": {},
   "outputs": [
    {
     "name": "stdout",
     "output_type": "stream",
     "text": [
      "size of dense array: 4000000000\n",
      "size of sparse array: 200003268\n",
      "memory taken is about half as much\n"
     ]
    }
   ],
   "source": [
    "# another example --- text \n",
    "\n",
    "n_rows = 10000\n",
    "n_cols = 100000\n",
    "\n",
    "#create random binary matrix w only 5% values as 1s\n",
    "example = np.random.binomial(1,p=0.05,size=(n_rows,n_cols))\n",
    "\n",
    "#print size \n",
    "print(f\"size of dense array: {example.nbytes}\")\n",
    "\n",
    "#convert to sparse\n",
    "sparse_example = sparse.csr_matrix(example)\n",
    "\n",
    "print(f\"size of sparse array: {sparse_example.data.nbytes}\")\n",
    "print(\"memory taken is about half as much\")"
   ]
  },
  {
   "cell_type": "code",
   "execution_count": 32,
   "metadata": {},
   "outputs": [
    {
     "name": "stdout",
     "output_type": "stream",
     "text": [
      "Size of dense array: 72\n",
      "Size of sparse array: 12\n",
      "size of sparse one-hot even less than binarized sparse above\n"
     ]
    }
   ],
   "source": [
    "#one hot encoding takes even less memory\n",
    "import numpy as np\n",
    "from scipy import sparse\n",
    "\n",
    "# create binary matrix - same example as above\n",
    "example = np.array(\n",
    " [\n",
    " [0, 0, 0, 0, 1, 0],\n",
    " [0, 1, 0, 0, 0, 0],\n",
    " [1, 0, 0, 0, 0, 0]\n",
    " ]\n",
    ")\n",
    "\n",
    "# print size in bytes\n",
    "print(f\"Size of dense array: {example.nbytes}\")\n",
    "# convert numpy array to sparse CSR matrix\n",
    "sparse_example = sparse.csr_matrix(example)\n",
    "# print size of this sparse matrix\n",
    "print(f\"Size of sparse array: {sparse_example.data.nbytes}\")\n",
    "print('size of sparse one-hot even less than binarized sparse above')"
   ]
  },
  {
   "cell_type": "code",
   "execution_count": 10,
   "metadata": {},
   "outputs": [
    {
     "name": "stdout",
     "output_type": "stream",
     "text": [
      "Size of dense array: 8000000000\n",
      "Size of dense array: 8000000\n",
      "8GB vs 8MB\n"
     ]
    }
   ],
   "source": [
    "#again, scikit can do this much easier - pg 96\n",
    "import numpy as np\n",
    "from sklearn import preprocessing\n",
    "\n",
    "#create random 1d array w/ 1001 diff categories (int)\n",
    "example = np.random.randint(1000,size=1000000)\n",
    "\n",
    "#init onehot non sparse\n",
    "ohe = preprocessing.OneHotEncoder(sparse=False)\n",
    "ohe_ex = ohe.fit_transform(example.reshape(-1,1))\n",
    "print(f\"Size of dense array: {ohe_ex.nbytes}\")\n",
    "\n",
    "\n",
    "#init onehot sparse (default)\n",
    "ohe = preprocessing.OneHotEncoder()\n",
    "ohe_ex = ohe.fit_transform(example.reshape(-1,1))\n",
    "print(f\"Size of dense array: {ohe_ex.data.nbytes}\")\n",
    "print('8GB vs 8MB')"
   ]
  },
  {
   "cell_type": "code",
   "execution_count": 12,
   "metadata": {},
   "outputs": [
    {
     "data": {
      "text/plain": [
       "(84790, 25)"
      ]
     },
     "execution_count": 12,
     "metadata": {},
     "output_type": "execute_result"
    }
   ],
   "source": [
    "# Calculate how many occurences of 'boiling hot' in ord_2\n",
    "#----- These frequencies can be used as frequency numeric features-----#\n",
    "\n",
    "import pandas as pd\n",
    "import numpy as np\n",
    "\n",
    "df = pd.read_csv('cat_train.csv')\n",
    "#from https://www.kaggle.com/c/cat-in-the-dat-ii/overview\n",
    "\n",
    "df[df.ord_2 == 'Boiling Hot'].shape"
   ]
  },
  {
   "cell_type": "code",
   "execution_count": 16,
   "metadata": {},
   "outputs": [
    {
     "data": {
      "text/plain": [
       "ord_2\n",
       "Boiling Hot     84790\n",
       "Cold            97822\n",
       "Freezing       142726\n",
       "Hot             67508\n",
       "Lava Hot        64840\n",
       "Warm           124239\n",
       "Name: id, dtype: int64"
      ]
     },
     "execution_count": 16,
     "metadata": {},
     "output_type": "execute_result"
    }
   ],
   "source": [
    "#or with group by - 884790 rows\n",
    "df.groupby(['ord_2'])['id'].count()"
   ]
  },
  {
   "cell_type": "code",
   "execution_count": 17,
   "metadata": {},
   "outputs": [
    {
     "data": {
      "text/plain": [
       "0          67508.0\n",
       "1         124239.0\n",
       "2         142726.0\n",
       "3          64840.0\n",
       "4          97822.0\n",
       "            ...   \n",
       "599995    142726.0\n",
       "599996     84790.0\n",
       "599997    142726.0\n",
       "599998    124239.0\n",
       "599999     84790.0\n",
       "Name: id, Length: 600000, dtype: float64"
      ]
     },
     "execution_count": 17,
     "metadata": {},
     "output_type": "execute_result"
    }
   ],
   "source": [
    "# lets replace ord_2 variable w/ its count values -- \n",
    "# now we have converted it to a feature which is kind of numeric now.\n",
    "df.groupby(['ord_2'])['id'].transform('count')"
   ]
  },
  {
   "cell_type": "code",
   "execution_count": 22,
   "metadata": {},
   "outputs": [
    {
     "data": {
      "text/html": [
       "<div>\n",
       "<style scoped>\n",
       "    .dataframe tbody tr th:only-of-type {\n",
       "        vertical-align: middle;\n",
       "    }\n",
       "\n",
       "    .dataframe tbody tr th {\n",
       "        vertical-align: top;\n",
       "    }\n",
       "\n",
       "    .dataframe thead th {\n",
       "        text-align: right;\n",
       "    }\n",
       "</style>\n",
       "<table border=\"1\" class=\"dataframe\">\n",
       "  <thead>\n",
       "    <tr style=\"text-align: right;\">\n",
       "      <th></th>\n",
       "      <th>ord_1</th>\n",
       "      <th>ord_2</th>\n",
       "      <th>count</th>\n",
       "    </tr>\n",
       "  </thead>\n",
       "  <tbody>\n",
       "    <tr>\n",
       "      <th>0</th>\n",
       "      <td>Contributor</td>\n",
       "      <td>Boiling Hot</td>\n",
       "      <td>15634</td>\n",
       "    </tr>\n",
       "    <tr>\n",
       "      <th>1</th>\n",
       "      <td>Contributor</td>\n",
       "      <td>Cold</td>\n",
       "      <td>17734</td>\n",
       "    </tr>\n",
       "    <tr>\n",
       "      <th>2</th>\n",
       "      <td>Contributor</td>\n",
       "      <td>Freezing</td>\n",
       "      <td>26082</td>\n",
       "    </tr>\n",
       "    <tr>\n",
       "      <th>3</th>\n",
       "      <td>Contributor</td>\n",
       "      <td>Hot</td>\n",
       "      <td>12428</td>\n",
       "    </tr>\n",
       "    <tr>\n",
       "      <th>4</th>\n",
       "      <td>Contributor</td>\n",
       "      <td>Lava Hot</td>\n",
       "      <td>11919</td>\n",
       "    </tr>\n",
       "    <tr>\n",
       "      <th>5</th>\n",
       "      <td>Contributor</td>\n",
       "      <td>Warm</td>\n",
       "      <td>22774</td>\n",
       "    </tr>\n",
       "    <tr>\n",
       "      <th>6</th>\n",
       "      <td>Expert</td>\n",
       "      <td>Boiling Hot</td>\n",
       "      <td>19477</td>\n",
       "    </tr>\n",
       "    <tr>\n",
       "      <th>7</th>\n",
       "      <td>Expert</td>\n",
       "      <td>Cold</td>\n",
       "      <td>22956</td>\n",
       "    </tr>\n",
       "    <tr>\n",
       "      <th>8</th>\n",
       "      <td>Expert</td>\n",
       "      <td>Freezing</td>\n",
       "      <td>33249</td>\n",
       "    </tr>\n",
       "    <tr>\n",
       "      <th>9</th>\n",
       "      <td>Expert</td>\n",
       "      <td>Hot</td>\n",
       "      <td>15792</td>\n",
       "    </tr>\n",
       "  </tbody>\n",
       "</table>\n",
       "</div>"
      ],
      "text/plain": [
       "         ord_1        ord_2  count\n",
       "0  Contributor  Boiling Hot  15634\n",
       "1  Contributor         Cold  17734\n",
       "2  Contributor     Freezing  26082\n",
       "3  Contributor          Hot  12428\n",
       "4  Contributor     Lava Hot  11919\n",
       "5  Contributor         Warm  22774\n",
       "6       Expert  Boiling Hot  19477\n",
       "7       Expert         Cold  22956\n",
       "8       Expert     Freezing  33249\n",
       "9       Expert          Hot  15792"
      ]
     },
     "execution_count": 22,
     "metadata": {},
     "output_type": "execute_result"
    }
   ],
   "source": [
    "# you could do it with multiple features as well\n",
    "df.groupby(['ord_1','ord_2'])['id'].count().reset_index(name='count').head(10)"
   ]
  },
  {
   "cell_type": "code",
   "execution_count": 25,
   "metadata": {},
   "outputs": [
    {
     "data": {
      "text/plain": [
       "0                 Contributor_Hot\n",
       "1                Grandmaster_Warm\n",
       "2                    nan_Freezing\n",
       "3                 Novice_Lava Hot\n",
       "4                Grandmaster_Cold\n",
       "                   ...           \n",
       "599995            Novice_Freezing\n",
       "599996         Novice_Boiling Hot\n",
       "599997       Contributor_Freezing\n",
       "599998                Master_Warm\n",
       "599999    Contributor_Boiling Hot\n",
       "Name: new_feature, Length: 600000, dtype: object"
      ]
     },
     "execution_count": 25,
     "metadata": {},
     "output_type": "execute_result"
    }
   ],
   "source": [
    "#another trick would be to create new features from these cat variables (such as concatenating)\n",
    "df['new_feature'] = (df.ord_1.astype(str)+ \"_\" + df.ord_2.astype(str)\n",
    "                    )\n",
    "df['new_feature']"
   ]
  },
  {
   "cell_type": "markdown",
   "metadata": {},
   "source": [
    "## Follow these simple steps whenever you get Categorical Variables:"
   ]
  },
  {
   "cell_type": "markdown",
   "metadata": {},
   "source": [
    "#### Fill NaN values (very important! treating them as own category can work too)\n",
    "#### convert them to ints by applying labelencoder, or\n",
    "#### create one-hot encoding"
   ]
  },
  {
   "cell_type": "code",
   "execution_count": 29,
   "metadata": {},
   "outputs": [
    {
     "data": {
      "text/plain": [
       "Freezing       142726\n",
       "Warm           124239\n",
       "Cold            97822\n",
       "Boiling Hot     84790\n",
       "Hot             67508\n",
       "Lava Hot        64840\n",
       "NONE            18075\n",
       "Name: ord_2, dtype: int64"
      ]
     },
     "execution_count": 29,
     "metadata": {},
     "output_type": "execute_result"
    }
   ],
   "source": [
    "#keep in mind that value counts will hide NaN, but we want them recognized, categorized\n",
    "df.ord_2.fillna('NONE').value_counts()"
   ]
  },
  {
   "cell_type": "code",
   "execution_count": 30,
   "metadata": {},
   "outputs": [
    {
     "data": {
      "text/plain": [
       "N       39978\n",
       "P       37890\n",
       "Y       36657\n",
       "A       36633\n",
       "R       33045\n",
       "U       32897\n",
       "M       32504\n",
       "X       32347\n",
       "C       32112\n",
       "H       31189\n",
       "Q       30145\n",
       "T       29723\n",
       "O       25610\n",
       "B       25212\n",
       "E       21871\n",
       "K       21676\n",
       "I       19805\n",
       "NONE    17930\n",
       "D       17284\n",
       "F       16721\n",
       "W        8268\n",
       "Z        5790\n",
       "S        4595\n",
       "G        3404\n",
       "V        3107\n",
       "J        1950\n",
       "L        1657\n",
       "Name: ord_4, dtype: int64"
      ]
     },
     "execution_count": 30,
     "metadata": {},
     "output_type": "execute_result"
    }
   ],
   "source": [
    "#sometimes you need to account for a 'rare category' - one that is not seen often, and include many, as a catch-all\n",
    "#  particularly for train vs test in production envts, there may be new categories come in during test/production -\n",
    "#  these can generally be put into unknown if they are rare\n",
    "\n",
    "df.ord_4.fillna('NONE').value_counts()"
   ]
  },
  {
   "cell_type": "code",
   "execution_count": 44,
   "metadata": {},
   "outputs": [
    {
     "data": {
      "text/plain": [
       "N       39978\n",
       "P       37890\n",
       "Y       36657\n",
       "A       36633\n",
       "R       33045\n",
       "U       32897\n",
       "M       32504\n",
       "X       32347\n",
       "C       32112\n",
       "H       31189\n",
       "Q       30145\n",
       "T       29723\n",
       "O       25610\n",
       "B       25212\n",
       "E       21871\n",
       "K       21676\n",
       "I       19805\n",
       "NONE    17930\n",
       "D       17284\n",
       "F       16721\n",
       "W        8268\n",
       "Z        5790\n",
       "S        4595\n",
       "RARE     3607\n",
       "G        3404\n",
       "V        3107\n",
       "Name: ord_4, dtype: int64"
      ]
     },
     "execution_count": 44,
     "metadata": {},
     "output_type": "execute_result"
    }
   ],
   "source": [
    "# in this case lets replace count of less than 2k (subjective threshold) as rare\n",
    "# this ensures the model works in a live setting too\n",
    "\n",
    "df.ord_4 = df.ord_4.fillna('NONE')\n",
    "\n",
    "df.loc[\n",
    "df['ord_4'].value_counts()[df['ord_4']].values<2000,'ord_4'] = 'RARE'\n",
    "\n",
    "df.ord_4.value_counts()"
   ]
  },
  {
   "cell_type": "code",
   "execution_count": 5,
   "metadata": {},
   "outputs": [],
   "source": [
    "#moving onto iterative modelling -- we know the target is binary & skewed, so we use stratified k fold to split\n",
    "#pg 108 - 111 (adapted)\n",
    "import pandas as pd\n",
    "import numpy as np\n",
    "from sklearn import model_selection\n",
    "\n",
    "df = pd.read_csv('cat_train.csv')\n",
    "#from https://www.kaggle.com/c/cat-in-the-dat-ii/overview\n",
    "\n",
    "#create column, shuffle, get target\n",
    "df['kfold']=-1\n",
    "df=df.sample(frac=1).reset_index(drop=True)\n",
    "y=df.target.values\n",
    "\n",
    "#initialize & populate kfold column\n",
    "kf=model_selection.StratifiedKFold(n_splits=5)\n",
    "for f,(t,v) in enumerate(kf.split(X=df,y=y)):\n",
    "    df.loc[v,'kfold']=f\n",
    "\n",
    "#all feature columns (names only)\n",
    "features= [\n",
    "f for f in df.columns if f not in ('id','target','kfold')\n",
    "]\n",
    "\n",
    "#fill all NaN values with NONE\n",
    "df.loc[:,features] = df.loc[:,features].astype(str).fillna('NONE')\n",
    "\n",
    "#a simple model is onehot encode all data, and build LogisticRegression\n",
    "\n",
    "from sklearn import linear_model\n",
    "from sklearn import metrics\n",
    "from sklearn import preprocessing\n",
    "\n",
    "def run(fold):\n",
    "\n",
    "    #get train data w folds\n",
    "    df_train = df[df['kfold'] != fold].reset_index(drop=True)\n",
    "    \n",
    "    #get validation data w folds\n",
    "    df_valid = df[df['kfold'] == fold].reset_index(drop=True)\n",
    "    \n",
    "    ohe = preprocessing.OneHotEncoder()\n",
    "    \n",
    "    #fit ohe on full data\n",
    "    full_data= pd.concat(\n",
    "    [df_train[features],\n",
    "    df_valid[features]],\n",
    "    axis=0)\n",
    "    \n",
    "    ohe.fit(full_data[features])\n",
    "    \n",
    "    #transform train / validation separately\n",
    "    x_train = ohe.transform(df_train[features])\n",
    "    x_valid = ohe.transform(df_valid[features])\n",
    "    \n",
    "    #build model\n",
    "    model = linear_model.LogisticRegression()\n",
    "    model.fit(x_train,df_train.target.values)\n",
    "    valid_preds = model.predict_proba(x_valid)[:,1]\n",
    "    \n",
    "    #get roc auc score\n",
    "    auc = metrics.roc_auc_score(df_valid.target.values,valid_preds)\n",
    "    print(auc)"
   ]
  },
  {
   "cell_type": "code",
   "execution_count": 75,
   "metadata": {},
   "outputs": [
    {
     "name": "stdout",
     "output_type": "stream",
     "text": [
      "0.7844130387710451\n"
     ]
    },
    {
     "name": "stderr",
     "output_type": "stream",
     "text": [
      "C:\\Users\\meich\\anaconda3\\lib\\site-packages\\sklearn\\linear_model\\_logistic.py:762: ConvergenceWarning: lbfgs failed to converge (status=1):\n",
      "STOP: TOTAL NO. of ITERATIONS REACHED LIMIT.\n",
      "\n",
      "Increase the number of iterations (max_iter) or scale the data as shown in:\n",
      "    https://scikit-learn.org/stable/modules/preprocessing.html\n",
      "Please also refer to the documentation for alternative solver options:\n",
      "    https://scikit-learn.org/stable/modules/linear_model.html#logistic-regression\n",
      "  n_iter_i = _check_optimize_result(\n"
     ]
    }
   ],
   "source": [
    "run(0)"
   ]
  },
  {
   "cell_type": "code",
   "execution_count": null,
   "metadata": {},
   "outputs": [],
   "source": [
    "#many people will start with a tree-based model, i.e. RF\n",
    "# in case of tree, you can use label encoding instead of one-hot (since its not a linear model)\n",
    "\n",
    "# however, simple models are the best to start with - in this case, an out-of-box logistic regression w onehot does better\n",
    "# than out-of-box RF/xgboost w labelencode"
   ]
  },
  {
   "cell_type": "markdown",
   "metadata": {},
   "source": [
    "#### UCI Census Data "
   ]
  },
  {
   "cell_type": "code",
   "execution_count": 86,
   "metadata": {},
   "outputs": [
    {
     "name": "stdout",
     "output_type": "stream",
     "text": [
      "0.8834529119850496\n"
     ]
    }
   ],
   "source": [
    "#objective - build a model to predict income, w categorical features\n",
    "\n",
    "import pandas as pd\n",
    "from sklearn import linear_model\n",
    "import xgboost as xgb\n",
    "from sklearn import metrics\n",
    "from sklearn import preprocessing\n",
    "from sklearn.model_selection import train_test_split\n",
    "from sklearn.model_selection import cross_validate\n",
    "import warnings\n",
    "warnings.filterwarnings('ignore')\n",
    "\n",
    "df = pd.read_csv('adult.csv')\n",
    "#https://archive.ics.uci.edu/ml/datasets/adult\n",
    "\n",
    "#skewed target class\n",
    "#df.income.value_counts()\n",
    "\n",
    "# get cat vars,target (change to 0,1)\n",
    "features = [f for f in df.columns if f not in ('age','fnlwgt','capital.gain','capital.loss','hours.per.week','income')]\n",
    "mapping = {\"<=50K\":0,\n",
    "           \">50K\":1}\n",
    "df['income'] = df.income.str.strip().map(mapping)\n",
    "y = df.income\n",
    "x = df[features]\n",
    "\n",
    "#impute nan on full data (pre split)\n",
    "#   we'll do this step anyway, for future data, even tho x.isna().sum() reveals no nan\n",
    "x = x.fillna('NONE')\n",
    "\n",
    "#1hot encode for logreg on full data (labelencode if RF)\n",
    "xdummy = pd.get_dummies(x)\n",
    "\n",
    "#split stratified k fold -- this can be done cleaner by passing 'stratify' arg to train_test_split\n",
    "#   x_train, x_test, y_train, y_test = train_test_split(x,y,stratify=y,test_size=0.25)\n",
    "#   BUT we will do it by passing an INT to cross_validate - which will force stratification\n",
    "#   AND we will do it simultaenously w model fitting\n",
    "\n",
    "#init model\n",
    "LR = linear_model.LogisticRegression(max_iter=500)\n",
    "\n",
    "#fit, check rocauc scores\n",
    "cross_validate(LR,xdummy,y,cv=5,scoring='roc_auc')\n",
    "\n",
    "\n",
    "#get actual predictions - 0.87/0.88 for both, which is good!\n",
    "x_train, x_test, y_train, y_test = train_test_split(xdummy,y,stratify=y,test_size=0.25)\n",
    "LR.fit(x_train,y_train)\n",
    "predictions = LR.predict_proba(x_test)[:,1]\n",
    "print(metrics.roc_auc_score(y_test, predictions))"
   ]
  },
  {
   "cell_type": "code",
   "execution_count": 130,
   "metadata": {},
   "outputs": [
    {
     "name": "stdout",
     "output_type": "stream",
     "text": [
      "[10:30:34] WARNING: C:/Users/Administrator/workspace/xgboost-win64_release_1.5.1/src/learner.cc:1115: Starting in XGBoost 1.3.0, the default evaluation metric used with the objective 'binary:logistic' was changed from 'error' to 'logloss'. Explicitly set eval_metric if you'd like to restore the old behavior.\n",
      "[10:30:35] WARNING: C:/Users/Administrator/workspace/xgboost-win64_release_1.5.1/src/learner.cc:1115: Starting in XGBoost 1.3.0, the default evaluation metric used with the objective 'binary:logistic' was changed from 'error' to 'logloss'. Explicitly set eval_metric if you'd like to restore the old behavior.\n",
      "[10:30:36] WARNING: C:/Users/Administrator/workspace/xgboost-win64_release_1.5.1/src/learner.cc:1115: Starting in XGBoost 1.3.0, the default evaluation metric used with the objective 'binary:logistic' was changed from 'error' to 'logloss'. Explicitly set eval_metric if you'd like to restore the old behavior.\n",
      "[10:30:36] WARNING: C:/Users/Administrator/workspace/xgboost-win64_release_1.5.1/src/learner.cc:1115: Starting in XGBoost 1.3.0, the default evaluation metric used with the objective 'binary:logistic' was changed from 'error' to 'logloss'. Explicitly set eval_metric if you'd like to restore the old behavior.\n",
      "[10:30:37] WARNING: C:/Users/Administrator/workspace/xgboost-win64_release_1.5.1/src/learner.cc:1115: Starting in XGBoost 1.3.0, the default evaluation metric used with the objective 'binary:logistic' was changed from 'error' to 'logloss'. Explicitly set eval_metric if you'd like to restore the old behavior.\n"
     ]
    },
    {
     "data": {
      "text/plain": [
       "{'fit_time': array([0.73864579, 0.7685082 , 0.7503686 , 0.76003432, 0.76849389]),\n",
       " 'score_time': array([0.        , 0.        , 0.01000261, 0.        , 0.01562643]),\n",
       " 'test_score': array([0.86449567, 0.8608829 , 0.86741415, 0.87333163, 0.8702932 ])}"
      ]
     },
     "execution_count": 130,
     "metadata": {},
     "output_type": "execute_result"
    }
   ],
   "source": [
    "# lets do the same thing but with out of box xgboost (use labelencoder)\n",
    "\n",
    "\n",
    "#objective - build a model to predict income, w categorical features\n",
    "\n",
    "import pandas as pd\n",
    "from sklearn import linear_model\n",
    "import xgboost as xgb\n",
    "from sklearn import metrics\n",
    "from sklearn import preprocessing\n",
    "from sklearn.model_selection import train_test_split\n",
    "from sklearn.model_selection import cross_validate\n",
    "import warnings\n",
    "warnings.filterwarnings('ignore')\n",
    "\n",
    "df = pd.read_csv('adult.csv')\n",
    "#https://archive.ics.uci.edu/ml/datasets/adult\n",
    "\n",
    "#skewed target class\n",
    "#df.income.value_counts()\n",
    "\n",
    "# get cat vars,target (change to 0,1)\n",
    "features = [f for f in df.columns if f not in ('age','fnlwgt','capital.gain','capital.loss','hours.per.week','income')]\n",
    "mapping = {\"<=50K\":0,\n",
    "           \">50K\":1}\n",
    "df['income'] = df.income.str.strip().map(mapping)\n",
    "y = df.income\n",
    "x = df[features]\n",
    "\n",
    "#impute nan on full data (pre split)\n",
    "#   we'll do this step anyway, for future data, even tho x.isna().sum() reveals no nan\n",
    "x = x.fillna('NONE')\n",
    "\n",
    "#labelencode w tree, use apply to apply a column specific function across a dataframe!\n",
    "le = preprocessing.LabelEncoder()\n",
    "xdummy = x.apply(le.fit_transform)\n",
    "\n",
    "#split stratified k fold -- this can be done cleaner by passing 'stratify' arg to train_test_split\n",
    "#   x_train, x_test, y_train, y_test = train_test_split(x,y,stratify=y,test_size=0.25)\n",
    "#   BUT we will do it by passing an INT to cross_validate - which will force stratification\n",
    "#   AND we will do it simultaenously w model fitting\n",
    "\n",
    "#init model\n",
    "trees = xgb.XGBClassifier(n_jobs=-1,\n",
    "                         max_depth =7,\n",
    "                         n_estimators=200)\n",
    "\n",
    "#fit, check rocauc scores\n",
    "cross_validate(trees,xdummy,y,cv=5,scoring='roc_auc')"
   ]
  },
  {
   "cell_type": "code",
   "execution_count": 131,
   "metadata": {},
   "outputs": [
    {
     "name": "stdout",
     "output_type": "stream",
     "text": [
      "[10:32:27] WARNING: C:/Users/Administrator/workspace/xgboost-win64_release_1.5.1/src/learner.cc:1115: Starting in XGBoost 1.3.0, the default evaluation metric used with the objective 'binary:logistic' was changed from 'error' to 'logloss'. Explicitly set eval_metric if you'd like to restore the old behavior.\n",
      "[10:32:28] WARNING: C:/Users/Administrator/workspace/xgboost-win64_release_1.5.1/src/learner.cc:1115: Starting in XGBoost 1.3.0, the default evaluation metric used with the objective 'binary:logistic' was changed from 'error' to 'logloss'. Explicitly set eval_metric if you'd like to restore the old behavior.\n",
      "[10:32:30] WARNING: C:/Users/Administrator/workspace/xgboost-win64_release_1.5.1/src/learner.cc:1115: Starting in XGBoost 1.3.0, the default evaluation metric used with the objective 'binary:logistic' was changed from 'error' to 'logloss'. Explicitly set eval_metric if you'd like to restore the old behavior.\n",
      "[10:32:32] WARNING: C:/Users/Administrator/workspace/xgboost-win64_release_1.5.1/src/learner.cc:1115: Starting in XGBoost 1.3.0, the default evaluation metric used with the objective 'binary:logistic' was changed from 'error' to 'logloss'. Explicitly set eval_metric if you'd like to restore the old behavior.\n",
      "[10:32:33] WARNING: C:/Users/Administrator/workspace/xgboost-win64_release_1.5.1/src/learner.cc:1115: Starting in XGBoost 1.3.0, the default evaluation metric used with the objective 'binary:logistic' was changed from 'error' to 'logloss'. Explicitly set eval_metric if you'd like to restore the old behavior.\n"
     ]
    },
    {
     "data": {
      "text/plain": [
       "{'fit_time': array([1.59942937, 1.58552098, 1.61180544, 1.61670232, 1.6060164 ]),\n",
       " 'score_time': array([0.01562619, 0.01562333, 0.0219636 , 0.01000237, 0.01000237]),\n",
       " 'test_score': array([0.9174386 , 0.91770921, 0.92119042, 0.9208798 , 0.92112857])}"
      ]
     },
     "execution_count": 131,
     "metadata": {},
     "output_type": "execute_result"
    }
   ],
   "source": [
    "#include the numeric features -- same code otherwise\n",
    "\n",
    "#objective - build a model to predict income, w categorical features\n",
    "\n",
    "import pandas as pd\n",
    "from sklearn import linear_model\n",
    "import xgboost as xgb\n",
    "from sklearn import metrics\n",
    "from sklearn import preprocessing\n",
    "from sklearn.model_selection import train_test_split\n",
    "from sklearn.model_selection import cross_validate\n",
    "import warnings\n",
    "warnings.filterwarnings('ignore')\n",
    "\n",
    "df = pd.read_csv('adult.csv')\n",
    "#https://archive.ics.uci.edu/ml/datasets/adult\n",
    "\n",
    "#skewed target class\n",
    "#df.income.value_counts()\n",
    "\n",
    "# get cat vars,target (change to 0,1)\n",
    "features = [f for f in df.columns if f not in ('income')]\n",
    "mapping = {\"<=50K\":0,\n",
    "           \">50K\":1}\n",
    "df['income'] = df.income.str.strip().map(mapping)\n",
    "y = df.income\n",
    "x = df[features]\n",
    "\n",
    "#impute nan on full data (pre split)\n",
    "#   we'll do this step anyway, for future data, even tho x.isna().sum() reveals no nan\n",
    "x = x.fillna('NONE')\n",
    "\n",
    "#labelencode w tree, use apply to apply a column specific function across a dataframe!\n",
    "le = preprocessing.LabelEncoder()\n",
    "xdummy = x.apply(le.fit_transform)\n",
    "\n",
    "#split stratified k fold -- this can be done cleaner by passing 'stratify' arg to train_test_split\n",
    "#   x_train, x_test, y_train, y_test = train_test_split(x,y,stratify=y,test_size=0.25)\n",
    "#   BUT we will do it by passing an INT to cross_validate - which will force stratification\n",
    "#   AND we will do it simultaenously w model fitting\n",
    "\n",
    "#init model\n",
    "trees = xgb.XGBClassifier(n_jobs=-1,\n",
    "                         max_depth =7,\n",
    "                         n_estimators=200)\n",
    "\n",
    "#fit, check rocauc scores\n",
    "cross_validate(trees,xdummy,y,cv=5,scoring='roc_auc')"
   ]
  },
  {
   "cell_type": "code",
   "execution_count": null,
   "metadata": {},
   "outputs": [],
   "source": [
    "#now we'll try to add some features using combinations of categorical variables\n",
    "# can use sklearn PolynomialFeatures for this\n",
    "\n",
    "# target encoding can be useful, but must be done with caution to avoid overfitting\n",
    "# can use sklearn Category.TargetEncoder() for this (preferably w smoothing to introduce some noise and prevent overfitting)"
   ]
  },
  {
   "cell_type": "markdown",
   "metadata": {},
   "source": [
    "#### Neural Network w TF/Keras (entity embeddings)"
   ]
  },
  {
   "cell_type": "code",
   "execution_count": 1,
   "metadata": {},
   "outputs": [],
   "source": [
    "# entity_emebddings.py\n",
    "#pg 137\n",
    "# this is giving an error currently\n",
    "import os\n",
    "import gc\n",
    "import joblib\n",
    "import pandas as pd\n",
    "import numpy as np\n",
    "from sklearn import metrics, preprocessing\n",
    "from tensorflow.keras import layers\n",
    "from tensorflow.keras import optimizers\n",
    "from tensorflow.keras.models import Model, load_model\n",
    "from tensorflow.keras import callbacks\n",
    "from tensorflow.keras import backend as K\n",
    "from tensorflow.keras import utils"
   ]
  },
  {
   "cell_type": "code",
   "execution_count": 13,
   "metadata": {},
   "outputs": [],
   "source": [
    "def create_model(data,catcols):\n",
    "    \"\"\"\n",
    "    This function returns a compiled tf.keras model\n",
    "    for entity embeddings\n",
    "    \"\"\"\n",
    "    \n",
    "    #init list inputs/outputs for embeddings\n",
    "    inputs=[]\n",
    "    outputs=[]\n",
    "    \n",
    "    #loop over cat cols\n",
    "    for c in catcols:\n",
    "        \n",
    "        #find # of unique values in column\n",
    "        num_unique_values = int(data[c].nunique())\n",
    "        \n",
    "        #simple dimension of embedding calculator\n",
    "        #min size is half # of unique values, max size is 50 (max size depends on # of unique categories too)\n",
    "        #  50 is sufficient most times but you might need larger if you have millions of unique values\n",
    "        embed_dim = int(min(np.ceil((num_unique_values)/2),50))\n",
    "        \n",
    "        #simple keras input layer w size 1\n",
    "        inp = layers.Input(shape=(1,))\n",
    "        \n",
    "        #adding embedding layer to raw input (embedding size is always 1 more than unique values)\n",
    "        out = layers.Embedding(\n",
    "            num_unique_values+1,embed_dim,name=c)(inp)\n",
    "        \n",
    "        #1d spatial dropout standard for embedding layers\n",
    "        out = layers.SpatialDropout1D(0.3)(out)\n",
    "        \n",
    "        #reshape input to dimension of embedding\n",
    "        out = layers.Reshape(target_shape=(embed_dim,))(out)\n",
    "        \n",
    "        #add input to input list, outputs to output list\n",
    "        inputs.append(inp)\n",
    "        outputs.append(out)\n",
    "        \n",
    "        #concat output layers\n",
    "        x = layers.Concatenate()(outputs)\n",
    "        \n",
    "        #add batchnorm layer - from here everything is up to you\n",
    "        #  you can try diff architectures\n",
    "        x = layers.BatchNormalization()(x)\n",
    "        \n",
    "        #a bunch of dense layers w dropout\n",
    "        # start w one or two layers only\n",
    "        x = layers.Dense(300,activation='relu')(x)\n",
    "        x = layers.Dropout(0.3)(x)\n",
    "        x = layers.BatchNormalization()(x)\n",
    "\n",
    "        x = layers.Dense(300,activation='relu')(x)\n",
    "        x = layers.Dropout(0.3)(x)\n",
    "        x = layers.BatchNormalization()(x)\n",
    "        \n",
    "        #using softmax & treating it as two class problem (you can also use sigmoid, then you need to use only 1 output class)\n",
    "        y = layers.Dense(2,activation='softmax')(x)\n",
    "        \n",
    "        #create final model\n",
    "        model = Model(inputs=inputs,outputs=y)\n",
    "        \n",
    "        #compile model\n",
    "        # we use adam and binary cross entropy\n",
    "        model.compile(loss='binary_crossentropy',optimizer='adam')\n",
    "        return model\n",
    "\n",
    "def run(fold):\n",
    "    df = pd.read_csv('cat_train.csv')\n",
    "    \n",
    "    #create column, shuffle, get target\n",
    "    df['kfold']=-1\n",
    "    df=df.sample(frac=1).reset_index(drop=True)\n",
    "    y=df.target.values\n",
    "\n",
    "    #initialize & populate kfold column\n",
    "    kf=model_selection.StratifiedKFold(n_splits=5)\n",
    "    \n",
    "    for f,(t,v) in enumerate(kf.split(X=df,y=y)):\n",
    "        df.loc[v,'kfold']=f\n",
    "        \n",
    "    features = [\n",
    "        f for f in df.columns if f not in (\"id\", \"target\", \"kfold\")\n",
    "        ]\n",
    "    \n",
    "    for col in features:\n",
    "        df.loc[:, col] = df[col].astype(str).fillna(\"NONE\")\n",
    "            \n",
    "            \n",
    "    for feat in features:\n",
    "        lbl_enc = preprocessing.LabelEncoder()\n",
    "        df.loc[:, feat] = lbl_enc.fit_transform(df[feat].values)\n",
    "            \n",
    "    df_train = df[df.kfold != fold].reset_index(drop=True)\n",
    "    df_valid = df[df.kfold == fold].reset_index(drop=True)\n",
    "\n",
    "    #reference our keras function----------------------------------------------\n",
    "    model = create_model(df, features)\n",
    "\n",
    "    # our features are lists of lists\n",
    "    xtrain = [df_train[features].values[:, k] for k in range(len(features))]\n",
    "    xvalid = [df_valid[features].values[:, k] for k in range(len(features))]\n",
    "    \n",
    "     # fetch target columns\n",
    "    ytrain = df_train.target.values\n",
    "    yvalid = df_valid.target.values\n",
    "    \n",
    "     # convert target columns to categories\n",
    "     # this is just binarization\n",
    "    ytrain_cat = utils.to_categorical(ytrain)\n",
    "    yvalid_cat = utils.to_categorical(yvalid)\n",
    "\n",
    "    #fit model\n",
    "    model.fit(xtrain,\n",
    "        ytrain_cat,\n",
    "        validation_data=(xvalid, yvalid_cat),\n",
    "        verbose=1,\n",
    "        batch_size=1024,\n",
    "        epochs=3\n",
    "        )\n",
    "    \n",
    "    #generate predictions\n",
    "    valid_preds = model.predict(xvalid)[:, 1]\n",
    "     # print roc auc score\n",
    "    print(metrics.roc_auc_score(yvalid, valid_preds))\n",
    "     # clear session to free up some GPU memory\n",
    "    K.clear_session()"
   ]
  },
  {
   "cell_type": "code",
   "execution_count": 15,
   "metadata": {},
   "outputs": [],
   "source": [
    "#run(1)"
   ]
  },
  {
   "cell_type": "markdown",
   "metadata": {},
   "source": [
    "# Chapter 6: Feature Engineering\n",
    "### https://scikit-learn.org/stable/modules/preprocessing.html"
   ]
  },
  {
   "cell_type": "code",
   "execution_count": 1,
   "metadata": {},
   "outputs": [
    {
     "data": {
      "text/html": [
       "<div>\n",
       "<style scoped>\n",
       "    .dataframe tbody tr th:only-of-type {\n",
       "        vertical-align: middle;\n",
       "    }\n",
       "\n",
       "    .dataframe tbody tr th {\n",
       "        vertical-align: top;\n",
       "    }\n",
       "\n",
       "    .dataframe thead th {\n",
       "        text-align: right;\n",
       "    }\n",
       "</style>\n",
       "<table border=\"1\" class=\"dataframe\">\n",
       "  <thead>\n",
       "    <tr style=\"text-align: right;\">\n",
       "      <th></th>\n",
       "      <th>dayofweek</th>\n",
       "      <th>dayofyear</th>\n",
       "      <th>hour</th>\n",
       "      <th>is_leap_year</th>\n",
       "      <th>quarter</th>\n",
       "      <th>weekofyear</th>\n",
       "    </tr>\n",
       "  </thead>\n",
       "  <tbody>\n",
       "    <tr>\n",
       "      <th>0</th>\n",
       "      <td>0</td>\n",
       "      <td>6</td>\n",
       "      <td>0</td>\n",
       "      <td>True</td>\n",
       "      <td>1</td>\n",
       "      <td>2</td>\n",
       "    </tr>\n",
       "    <tr>\n",
       "      <th>1</th>\n",
       "      <td>0</td>\n",
       "      <td>6</td>\n",
       "      <td>10</td>\n",
       "      <td>True</td>\n",
       "      <td>1</td>\n",
       "      <td>2</td>\n",
       "    </tr>\n",
       "    <tr>\n",
       "      <th>2</th>\n",
       "      <td>0</td>\n",
       "      <td>6</td>\n",
       "      <td>20</td>\n",
       "      <td>True</td>\n",
       "      <td>1</td>\n",
       "      <td>2</td>\n",
       "    </tr>\n",
       "    <tr>\n",
       "      <th>3</th>\n",
       "      <td>1</td>\n",
       "      <td>7</td>\n",
       "      <td>6</td>\n",
       "      <td>True</td>\n",
       "      <td>1</td>\n",
       "      <td>2</td>\n",
       "    </tr>\n",
       "    <tr>\n",
       "      <th>4</th>\n",
       "      <td>1</td>\n",
       "      <td>7</td>\n",
       "      <td>16</td>\n",
       "      <td>True</td>\n",
       "      <td>1</td>\n",
       "      <td>2</td>\n",
       "    </tr>\n",
       "    <tr>\n",
       "      <th>5</th>\n",
       "      <td>2</td>\n",
       "      <td>8</td>\n",
       "      <td>2</td>\n",
       "      <td>True</td>\n",
       "      <td>1</td>\n",
       "      <td>2</td>\n",
       "    </tr>\n",
       "    <tr>\n",
       "      <th>6</th>\n",
       "      <td>2</td>\n",
       "      <td>8</td>\n",
       "      <td>12</td>\n",
       "      <td>True</td>\n",
       "      <td>1</td>\n",
       "      <td>2</td>\n",
       "    </tr>\n",
       "    <tr>\n",
       "      <th>7</th>\n",
       "      <td>2</td>\n",
       "      <td>8</td>\n",
       "      <td>22</td>\n",
       "      <td>True</td>\n",
       "      <td>1</td>\n",
       "      <td>2</td>\n",
       "    </tr>\n",
       "    <tr>\n",
       "      <th>8</th>\n",
       "      <td>3</td>\n",
       "      <td>9</td>\n",
       "      <td>8</td>\n",
       "      <td>True</td>\n",
       "      <td>1</td>\n",
       "      <td>2</td>\n",
       "    </tr>\n",
       "    <tr>\n",
       "      <th>9</th>\n",
       "      <td>3</td>\n",
       "      <td>9</td>\n",
       "      <td>18</td>\n",
       "      <td>True</td>\n",
       "      <td>1</td>\n",
       "      <td>2</td>\n",
       "    </tr>\n",
       "  </tbody>\n",
       "</table>\n",
       "</div>"
      ],
      "text/plain": [
       "   dayofweek  dayofyear  hour  is_leap_year  quarter  weekofyear\n",
       "0          0          6     0          True        1           2\n",
       "1          0          6    10          True        1           2\n",
       "2          0          6    20          True        1           2\n",
       "3          1          7     6          True        1           2\n",
       "4          1          7    16          True        1           2\n",
       "5          2          8     2          True        1           2\n",
       "6          2          8    12          True        1           2\n",
       "7          2          8    22          True        1           2\n",
       "8          3          9     8          True        1           2\n",
       "9          3          9    18          True        1           2"
      ]
     },
     "execution_count": 1,
     "metadata": {},
     "output_type": "execute_result"
    }
   ],
   "source": [
    "import pandas as pd\n",
    "\n",
    "s = pd.date_range('2020-01-06','2020-01-10',freq='10H').to_series()\n",
    "\n",
    "# create some features based on datetime\n",
    "features = {\n",
    " \"dayofweek\": s.dt.dayofweek.values,\n",
    " \"dayofyear\": s.dt.dayofyear.values,\n",
    " \"hour\": s.dt.hour.values,\n",
    " \"is_leap_year\": s.dt.is_leap_year.values,\n",
    " \"quarter\": s.dt.quarter.values,\n",
    " \"weekofyear\": s.dt.isocalendar().week.values\n",
    "}\n",
    "pd.DataFrame(features)"
   ]
  },
  {
   "cell_type": "code",
   "execution_count": 3,
   "metadata": {},
   "outputs": [],
   "source": [
    "# lets see how we can apply this to aggregated features on a sample dataframe\n",
    "#     sample df w customer_id, num1, date columns only\n",
    "#pg 144\n",
    "\n",
    "def generate_features(df):\n",
    "    \n",
    "    #create a bunch of features using the date column\n",
    "    df.loc[:,'year'] = df['date'].dt.year\n",
    "    df.loc[:, 'weekofyear'] = df['date'].dt.isocalendar().week\n",
    "    df.loc[:, 'month'] = df['date'].dt.month\n",
    "    df.loc[:, 'dayofweek'] = df['date'].dt.dayofweek\n",
    "    df.loc[:, 'weekend'] = (df['date'].dt.weekday >=5).astype(int)\n",
    "    \n",
    "    \n",
    "    #create an aggregate dictionary - this will be fed to a groupby\n",
    "    aggs = {}\n",
    "    \n",
    "    #for aggregation by month, calculate # of unique and also the mean\n",
    "    aggs['month'] = ['nunique','mean']\n",
    "    aggs['weekofyear'] = ['nunique','mean']\n",
    "    \n",
    "    #agg by num1 and calc descriptives\n",
    "    aggs['num1'] = ['sum','max','min','mean']\n",
    "    \n",
    "    #count by cust id, and unique\n",
    "    aggs['customer_id'] = ['size','nunique']\n",
    "    \n",
    "    #group by cust id and agg\n",
    "    agg_df = df.groupby('customer_id').agg(aggs)\n",
    "    agg_df = agg_df.reset_index()\n",
    "    return agg_df"
   ]
  },
  {
   "cell_type": "code",
   "execution_count": 10,
   "metadata": {},
   "outputs": [],
   "source": [
    "# with time-series problems, you might have features are a list of values\n",
    "# in such cases, you can create a bunch of features -- example below\n",
    "\n",
    "import numpy as np\n",
    "\n",
    "feature_dict = {}\n",
    "x=[1,2,3,4,5,6,7,100,110]\n",
    "\n",
    "feature_dict['mean'] = np.mean(x)\n",
    "feature_dict['max'] = np.max(x)\n",
    "feature_dict['min'] = np.min(x)\n",
    "feature_dict['std'] = np.std(x)\n",
    "feature_dict['var'] = np.var(x)\n",
    "\n",
    "#peak to peak, aka range of values\n",
    "feature_dict['ptp'] = np.ptp(x)\n",
    "\n",
    "#percentile features\n",
    "feature_dict['percentile_10'] = np.percentile(x, 10)\n",
    "feature_dict['percentile_60'] = np.percentile(x, 60)\n",
    "feature_dict['percentile_99'] = np.percentile(x, 99)\n",
    "\n",
    "#quantile features - percentile & quantile are really just the same thing\n",
    "feature_dict['quantile_5'] = np.quantile(x, 0.05)\n",
    "feature_dict['quantile_95'] = np.quantile(x, 0.95)\n",
    "feature_dict['quantile_99'] = np.quantile(x, 0.99)"
   ]
  },
  {
   "cell_type": "code",
   "execution_count": 14,
   "metadata": {},
   "outputs": [],
   "source": [
    "# time series data (list of values) can be converted to a lot of features\n",
    "# library tsfresh is great for this\n",
    "\n",
    "from tsfresh.feature_extraction import feature_calculators as fc\n",
    "\n",
    "# tsfresh based features\n",
    "\n",
    "#  this is not all; tsfresh offers hundreds of features\n",
    "feature_dict['abs_energy'] = fc.abs_energy(x)\n",
    "feature_dict['count_above_mean'] = fc.count_above_mean(x)\n",
    "feature_dict['count_below_mean'] = fc.count_below_mean(x)\n",
    "feature_dict['mean_abs_change'] = fc.mean_abs_change(x)\n",
    "feature_dict['mean_change'] = fc.mean_change(x)"
   ]
  },
  {
   "cell_type": "code",
   "execution_count": 29,
   "metadata": {},
   "outputs": [
    {
     "data": {
      "text/html": [
       "<div>\n",
       "<style scoped>\n",
       "    .dataframe tbody tr th:only-of-type {\n",
       "        vertical-align: middle;\n",
       "    }\n",
       "\n",
       "    .dataframe tbody tr th {\n",
       "        vertical-align: top;\n",
       "    }\n",
       "\n",
       "    .dataframe thead th {\n",
       "        text-align: right;\n",
       "    }\n",
       "</style>\n",
       "<table border=\"1\" class=\"dataframe\">\n",
       "  <thead>\n",
       "    <tr style=\"text-align: right;\">\n",
       "      <th></th>\n",
       "      <th>f_1</th>\n",
       "      <th>f_2</th>\n",
       "      <th>f_3</th>\n",
       "      <th>f_4</th>\n",
       "      <th>f_5</th>\n",
       "    </tr>\n",
       "  </thead>\n",
       "  <tbody>\n",
       "    <tr>\n",
       "      <th>0</th>\n",
       "      <td>0.243726</td>\n",
       "      <td>0.187513</td>\n",
       "      <td>0.059402</td>\n",
       "      <td>0.045702</td>\n",
       "      <td>0.035161</td>\n",
       "    </tr>\n",
       "    <tr>\n",
       "      <th>1</th>\n",
       "      <td>0.635527</td>\n",
       "      <td>0.057605</td>\n",
       "      <td>0.403895</td>\n",
       "      <td>0.036609</td>\n",
       "      <td>0.003318</td>\n",
       "    </tr>\n",
       "    <tr>\n",
       "      <th>2</th>\n",
       "      <td>0.692862</td>\n",
       "      <td>0.190513</td>\n",
       "      <td>0.480057</td>\n",
       "      <td>0.131999</td>\n",
       "      <td>0.036295</td>\n",
       "    </tr>\n",
       "    <tr>\n",
       "      <th>3</th>\n",
       "      <td>0.908840</td>\n",
       "      <td>0.999677</td>\n",
       "      <td>0.825990</td>\n",
       "      <td>0.908546</td>\n",
       "      <td>0.999354</td>\n",
       "    </tr>\n",
       "    <tr>\n",
       "      <th>4</th>\n",
       "      <td>0.834547</td>\n",
       "      <td>0.487553</td>\n",
       "      <td>0.696469</td>\n",
       "      <td>0.406886</td>\n",
       "      <td>0.237708</td>\n",
       "    </tr>\n",
       "    <tr>\n",
       "      <th>...</th>\n",
       "      <td>...</td>\n",
       "      <td>...</td>\n",
       "      <td>...</td>\n",
       "      <td>...</td>\n",
       "      <td>...</td>\n",
       "    </tr>\n",
       "    <tr>\n",
       "      <th>95</th>\n",
       "      <td>0.808444</td>\n",
       "      <td>0.244167</td>\n",
       "      <td>0.653581</td>\n",
       "      <td>0.197395</td>\n",
       "      <td>0.059618</td>\n",
       "    </tr>\n",
       "    <tr>\n",
       "      <th>96</th>\n",
       "      <td>0.282379</td>\n",
       "      <td>0.897097</td>\n",
       "      <td>0.079738</td>\n",
       "      <td>0.253321</td>\n",
       "      <td>0.804782</td>\n",
       "    </tr>\n",
       "    <tr>\n",
       "      <th>97</th>\n",
       "      <td>0.959838</td>\n",
       "      <td>0.774699</td>\n",
       "      <td>0.921289</td>\n",
       "      <td>0.743586</td>\n",
       "      <td>0.600159</td>\n",
       "    </tr>\n",
       "    <tr>\n",
       "      <th>98</th>\n",
       "      <td>0.964317</td>\n",
       "      <td>0.671374</td>\n",
       "      <td>0.929908</td>\n",
       "      <td>0.647417</td>\n",
       "      <td>0.450743</td>\n",
       "    </tr>\n",
       "    <tr>\n",
       "      <th>99</th>\n",
       "      <td>0.201211</td>\n",
       "      <td>0.741446</td>\n",
       "      <td>0.040486</td>\n",
       "      <td>0.149187</td>\n",
       "      <td>0.549742</td>\n",
       "    </tr>\n",
       "  </tbody>\n",
       "</table>\n",
       "<p>100 rows × 5 columns</p>\n",
       "</div>"
      ],
      "text/plain": [
       "         f_1       f_2       f_3       f_4       f_5\n",
       "0   0.243726  0.187513  0.059402  0.045702  0.035161\n",
       "1   0.635527  0.057605  0.403895  0.036609  0.003318\n",
       "2   0.692862  0.190513  0.480057  0.131999  0.036295\n",
       "3   0.908840  0.999677  0.825990  0.908546  0.999354\n",
       "4   0.834547  0.487553  0.696469  0.406886  0.237708\n",
       "..       ...       ...       ...       ...       ...\n",
       "95  0.808444  0.244167  0.653581  0.197395  0.059618\n",
       "96  0.282379  0.897097  0.079738  0.253321  0.804782\n",
       "97  0.959838  0.774699  0.921289  0.743586  0.600159\n",
       "98  0.964317  0.671374  0.929908  0.647417  0.450743\n",
       "99  0.201211  0.741446  0.040486  0.149187  0.549742\n",
       "\n",
       "[100 rows x 5 columns]"
      ]
     },
     "execution_count": 29,
     "metadata": {},
     "output_type": "execute_result"
    }
   ],
   "source": [
    "#another simple way to generate many features is just to create a bunch of polynomial features\n",
    "\n",
    "#generate random df with 2 columns and 100 rows\n",
    "df = pd.DataFrame(\n",
    "np.random.rand(100,2),\n",
    "columns=[f\"f_{i}\" for i in range(1,3)])\n",
    "\n",
    "from sklearn import preprocessing\n",
    "\n",
    "#init w 2 degree features (2 degree is a^2, ab, b^2) (if interaction only then just ab)\n",
    "pf = preprocessing.PolynomialFeatures(degree=2,interaction_only=False,include_bias=False)\n",
    "\n",
    "poly_feats = pf.fit_transform(df)\n",
    "\n",
    "#create df with all features\n",
    "num_feats=poly_feats.shape[1]\n",
    "pd.DataFrame(poly_feats,columns=[f\"f_{i}\" for i in range(1, num_feats + 1)])"
   ]
  },
  {
   "cell_type": "code",
   "execution_count": 32,
   "metadata": {},
   "outputs": [
    {
     "data": {
      "text/html": [
       "<div>\n",
       "<style scoped>\n",
       "    .dataframe tbody tr th:only-of-type {\n",
       "        vertical-align: middle;\n",
       "    }\n",
       "\n",
       "    .dataframe tbody tr th {\n",
       "        vertical-align: top;\n",
       "    }\n",
       "\n",
       "    .dataframe thead th {\n",
       "        text-align: right;\n",
       "    }\n",
       "</style>\n",
       "<table border=\"1\" class=\"dataframe\">\n",
       "  <thead>\n",
       "    <tr style=\"text-align: right;\">\n",
       "      <th></th>\n",
       "      <th>f_1</th>\n",
       "      <th>f_2</th>\n",
       "      <th>f_bin_10</th>\n",
       "      <th>f_bin_100</th>\n",
       "    </tr>\n",
       "  </thead>\n",
       "  <tbody>\n",
       "    <tr>\n",
       "      <th>0</th>\n",
       "      <td>0.243726</td>\n",
       "      <td>0.187513</td>\n",
       "      <td>2</td>\n",
       "      <td>23</td>\n",
       "    </tr>\n",
       "    <tr>\n",
       "      <th>1</th>\n",
       "      <td>0.635527</td>\n",
       "      <td>0.057605</td>\n",
       "      <td>6</td>\n",
       "      <td>63</td>\n",
       "    </tr>\n",
       "    <tr>\n",
       "      <th>2</th>\n",
       "      <td>0.692862</td>\n",
       "      <td>0.190513</td>\n",
       "      <td>6</td>\n",
       "      <td>69</td>\n",
       "    </tr>\n",
       "    <tr>\n",
       "      <th>3</th>\n",
       "      <td>0.908840</td>\n",
       "      <td>0.999677</td>\n",
       "      <td>9</td>\n",
       "      <td>92</td>\n",
       "    </tr>\n",
       "    <tr>\n",
       "      <th>4</th>\n",
       "      <td>0.834547</td>\n",
       "      <td>0.487553</td>\n",
       "      <td>8</td>\n",
       "      <td>84</td>\n",
       "    </tr>\n",
       "    <tr>\n",
       "      <th>...</th>\n",
       "      <td>...</td>\n",
       "      <td>...</td>\n",
       "      <td>...</td>\n",
       "      <td>...</td>\n",
       "    </tr>\n",
       "    <tr>\n",
       "      <th>95</th>\n",
       "      <td>0.808444</td>\n",
       "      <td>0.244167</td>\n",
       "      <td>8</td>\n",
       "      <td>81</td>\n",
       "    </tr>\n",
       "    <tr>\n",
       "      <th>96</th>\n",
       "      <td>0.282379</td>\n",
       "      <td>0.897097</td>\n",
       "      <td>2</td>\n",
       "      <td>27</td>\n",
       "    </tr>\n",
       "    <tr>\n",
       "      <th>97</th>\n",
       "      <td>0.959838</td>\n",
       "      <td>0.774699</td>\n",
       "      <td>9</td>\n",
       "      <td>97</td>\n",
       "    </tr>\n",
       "    <tr>\n",
       "      <th>98</th>\n",
       "      <td>0.964317</td>\n",
       "      <td>0.671374</td>\n",
       "      <td>9</td>\n",
       "      <td>97</td>\n",
       "    </tr>\n",
       "    <tr>\n",
       "      <th>99</th>\n",
       "      <td>0.201211</td>\n",
       "      <td>0.741446</td>\n",
       "      <td>1</td>\n",
       "      <td>19</td>\n",
       "    </tr>\n",
       "  </tbody>\n",
       "</table>\n",
       "<p>100 rows × 4 columns</p>\n",
       "</div>"
      ],
      "text/plain": [
       "         f_1       f_2  f_bin_10  f_bin_100\n",
       "0   0.243726  0.187513         2         23\n",
       "1   0.635527  0.057605         6         63\n",
       "2   0.692862  0.190513         6         69\n",
       "3   0.908840  0.999677         9         92\n",
       "4   0.834547  0.487553         8         84\n",
       "..       ...       ...       ...        ...\n",
       "95  0.808444  0.244167         8         81\n",
       "96  0.282379  0.897097         2         27\n",
       "97  0.959838  0.774699         9         97\n",
       "98  0.964317  0.671374         9         97\n",
       "99  0.201211  0.741446         1         19\n",
       "\n",
       "[100 rows x 4 columns]"
      ]
     },
     "execution_count": 32,
     "metadata": {},
     "output_type": "execute_result"
    }
   ],
   "source": [
    "# BINNING = WINNING, another feature engineering technique that can add non-linearity \n",
    "#   (enabling you to treat numerical as categorical)\n",
    "\n",
    "df['f_bin_10'] = pd.cut(df['f_1'],bins=10,labels=False)\n",
    "df['f_bin_100'] = pd.cut(df['f_1'],bins=100,labels=False)\n",
    "df"
   ]
  },
  {
   "cell_type": "code",
   "execution_count": 37,
   "metadata": {},
   "outputs": [
    {
     "name": "stdout",
     "output_type": "stream",
     "text": [
      "0.08350326329972897\n",
      "0.03804192227767559\n"
     ]
    }
   ],
   "source": [
    "# LOG TRANSFORMATION - can be useful when feature has high variance compared to others -- log will reduce variance\n",
    "\n",
    "print(df.f_1.var())\n",
    "\n",
    "print(df.f_1.apply(lambda x: np.log(1 + x)).var())"
   ]
  },
  {
   "cell_type": "markdown",
   "metadata": {},
   "source": [
    "#### Some Notes on Missing Values:"
   ]
  },
  {
   "cell_type": "code",
   "execution_count": 39,
   "metadata": {},
   "outputs": [],
   "source": [
    "# for categorical features - KISS; if you ever encounter MIA values in categorical features, treat it as a new category\n",
    "\n",
    "#imputation or dropping for numeric features\n",
    "\n",
    "# a fancy way of filling wouild be to use distance or prediction based imputation\n",
    "#  such as knnimputer or IterativeImputer\n",
    "\n",
    "# REMEMBER : imputing values for tree based models is unnecessary as they can handle it themselves"
   ]
  },
  {
   "cell_type": "code",
   "execution_count": 49,
   "metadata": {},
   "outputs": [],
   "source": [
    "import numpy as np\n",
    "from sklearn import impute\n",
    "\n",
    "#create random array w 10 samples and 6 features ranging from 1 to 15\n",
    "X = np.random.randint(1,15,(10,6))\n",
    "\n",
    "#convert to float\n",
    "X = X.astype(float)\n",
    "\n",
    "#randomly assign MIA to 10 elements (np.ravel returns a flattened array!)\n",
    "X.ravel()[np.random.choice(X.size,size=10,replace=False)] = np.nan"
   ]
  },
  {
   "cell_type": "code",
   "execution_count": 50,
   "metadata": {},
   "outputs": [
    {
     "data": {
      "text/plain": [
       "array([[14.,  7., nan, 12., 10., nan],\n",
       "       [ 3.,  7., nan, nan,  7.,  8.],\n",
       "       [ 1., nan,  7.,  4.,  6., 13.],\n",
       "       [11., 12.,  1., 13., 13.,  7.],\n",
       "       [ 2., 11., 11., 13.,  7.,  3.],\n",
       "       [ 9.,  1.,  9.,  9.,  6., 13.],\n",
       "       [14.,  5.,  3.,  5.,  7.,  9.],\n",
       "       [ 3., nan,  6., nan,  6.,  2.],\n",
       "       [nan,  1., nan,  3.,  3.,  2.],\n",
       "       [ 7., 14.,  7.,  7.,  5., nan]])"
      ]
     },
     "execution_count": 50,
     "metadata": {},
     "output_type": "execute_result"
    }
   ],
   "source": [
    "X"
   ]
  },
  {
   "cell_type": "code",
   "execution_count": 51,
   "metadata": {},
   "outputs": [
    {
     "data": {
      "text/plain": [
       "array([[14. ,  7. ,  2. , 12. , 10. ,  8. ],\n",
       "       [ 3. ,  7. ,  9. ,  8.5,  7. ,  8. ],\n",
       "       [ 1. , 10.5,  7. ,  4. ,  6. , 13. ],\n",
       "       [11. , 12. ,  1. , 13. , 13. ,  7. ],\n",
       "       [ 2. , 11. , 11. , 13. ,  7. ,  3. ],\n",
       "       [ 9. ,  1. ,  9. ,  9. ,  6. , 13. ],\n",
       "       [14. ,  5. ,  3. ,  5. ,  7. ,  9. ],\n",
       "       [ 3. ,  7.5,  6. ,  5. ,  6. ,  2. ],\n",
       "       [ 8.5,  1. ,  4.5,  3. ,  3. ,  2. ],\n",
       "       [ 7. , 14. ,  7. ,  7. ,  5. ,  7.5]])"
      ]
     },
     "execution_count": 51,
     "metadata": {},
     "output_type": "execute_result"
    }
   ],
   "source": [
    "#use 2 neighbors to fill na values\n",
    "knn_imputer = impute.KNNImputer(n_neighbors=2)\n",
    "knn_imputer.fit_transform(X)"
   ]
  },
  {
   "cell_type": "markdown",
   "metadata": {},
   "source": [
    "# Chapter 7: Feature Selection"
   ]
  },
  {
   "cell_type": "code",
   "execution_count": 1,
   "metadata": {},
   "outputs": [],
   "source": [
    "# Having too many features ( especially useless ones) is bad bc curse of dimensionality."
   ]
  },
  {
   "cell_type": "code",
   "execution_count": 3,
   "metadata": {},
   "outputs": [],
   "source": [
    "#LOW VARIANCE\n",
    "\n",
    "#the simplest form of feature selection would be: \"remove low variance features\"\n",
    "#  i.e. if the features have very low variance (close to 0), they are close to constant, thus do not add value to model!\n",
    "# sklearn has an implementation of this\n",
    "\n",
    "from sklearn.feature_selection import VarianceThreshold\n",
    "data=...\n",
    "var_thresh = VarianceThreshold(threshold=0.1)\n",
    "transformed_data = var_thresh.fit_transform(data)\n",
    "\n",
    "#transformed data will have only columns w/ variance less than 0.1 removed"
   ]
  },
  {
   "cell_type": "code",
   "execution_count": 20,
   "metadata": {},
   "outputs": [
    {
     "data": {
      "text/html": [
       "<div>\n",
       "<style scoped>\n",
       "    .dataframe tbody tr th:only-of-type {\n",
       "        vertical-align: middle;\n",
       "    }\n",
       "\n",
       "    .dataframe tbody tr th {\n",
       "        vertical-align: top;\n",
       "    }\n",
       "\n",
       "    .dataframe thead th {\n",
       "        text-align: right;\n",
       "    }\n",
       "</style>\n",
       "<table border=\"1\" class=\"dataframe\">\n",
       "  <thead>\n",
       "    <tr style=\"text-align: right;\">\n",
       "      <th></th>\n",
       "      <th>MedInc</th>\n",
       "      <th>HouseAge</th>\n",
       "      <th>AveRooms</th>\n",
       "      <th>AveBedrms</th>\n",
       "      <th>Population</th>\n",
       "      <th>AveOccup</th>\n",
       "      <th>Latitude</th>\n",
       "      <th>Longitude</th>\n",
       "      <th>MedInc_Sqrt</th>\n",
       "    </tr>\n",
       "  </thead>\n",
       "  <tbody>\n",
       "    <tr>\n",
       "      <th>MedInc</th>\n",
       "      <td>1.000000</td>\n",
       "      <td>-0.119034</td>\n",
       "      <td>0.326895</td>\n",
       "      <td>-0.062040</td>\n",
       "      <td>0.004834</td>\n",
       "      <td>0.018766</td>\n",
       "      <td>-0.079809</td>\n",
       "      <td>-0.015176</td>\n",
       "      <td>0.984329</td>\n",
       "    </tr>\n",
       "    <tr>\n",
       "      <th>HouseAge</th>\n",
       "      <td>-0.119034</td>\n",
       "      <td>1.000000</td>\n",
       "      <td>-0.153277</td>\n",
       "      <td>-0.077747</td>\n",
       "      <td>-0.296244</td>\n",
       "      <td>0.013191</td>\n",
       "      <td>0.011173</td>\n",
       "      <td>-0.108197</td>\n",
       "      <td>-0.132797</td>\n",
       "    </tr>\n",
       "    <tr>\n",
       "      <th>AveRooms</th>\n",
       "      <td>0.326895</td>\n",
       "      <td>-0.153277</td>\n",
       "      <td>1.000000</td>\n",
       "      <td>0.847621</td>\n",
       "      <td>-0.072213</td>\n",
       "      <td>-0.004852</td>\n",
       "      <td>0.106389</td>\n",
       "      <td>-0.027540</td>\n",
       "      <td>0.326688</td>\n",
       "    </tr>\n",
       "    <tr>\n",
       "      <th>AveBedrms</th>\n",
       "      <td>-0.062040</td>\n",
       "      <td>-0.077747</td>\n",
       "      <td>0.847621</td>\n",
       "      <td>1.000000</td>\n",
       "      <td>-0.066197</td>\n",
       "      <td>-0.006181</td>\n",
       "      <td>0.069721</td>\n",
       "      <td>0.013344</td>\n",
       "      <td>-0.066910</td>\n",
       "    </tr>\n",
       "    <tr>\n",
       "      <th>Population</th>\n",
       "      <td>0.004834</td>\n",
       "      <td>-0.296244</td>\n",
       "      <td>-0.072213</td>\n",
       "      <td>-0.066197</td>\n",
       "      <td>1.000000</td>\n",
       "      <td>0.069863</td>\n",
       "      <td>-0.108785</td>\n",
       "      <td>0.099773</td>\n",
       "      <td>0.018415</td>\n",
       "    </tr>\n",
       "    <tr>\n",
       "      <th>AveOccup</th>\n",
       "      <td>0.018766</td>\n",
       "      <td>0.013191</td>\n",
       "      <td>-0.004852</td>\n",
       "      <td>-0.006181</td>\n",
       "      <td>0.069863</td>\n",
       "      <td>1.000000</td>\n",
       "      <td>0.002366</td>\n",
       "      <td>0.002476</td>\n",
       "      <td>0.015266</td>\n",
       "    </tr>\n",
       "    <tr>\n",
       "      <th>Latitude</th>\n",
       "      <td>-0.079809</td>\n",
       "      <td>0.011173</td>\n",
       "      <td>0.106389</td>\n",
       "      <td>0.069721</td>\n",
       "      <td>-0.108785</td>\n",
       "      <td>0.002366</td>\n",
       "      <td>1.000000</td>\n",
       "      <td>-0.924664</td>\n",
       "      <td>-0.084303</td>\n",
       "    </tr>\n",
       "    <tr>\n",
       "      <th>Longitude</th>\n",
       "      <td>-0.015176</td>\n",
       "      <td>-0.108197</td>\n",
       "      <td>-0.027540</td>\n",
       "      <td>0.013344</td>\n",
       "      <td>0.099773</td>\n",
       "      <td>0.002476</td>\n",
       "      <td>-0.924664</td>\n",
       "      <td>1.000000</td>\n",
       "      <td>-0.015569</td>\n",
       "    </tr>\n",
       "    <tr>\n",
       "      <th>MedInc_Sqrt</th>\n",
       "      <td>0.984329</td>\n",
       "      <td>-0.132797</td>\n",
       "      <td>0.326688</td>\n",
       "      <td>-0.066910</td>\n",
       "      <td>0.018415</td>\n",
       "      <td>0.015266</td>\n",
       "      <td>-0.084303</td>\n",
       "      <td>-0.015569</td>\n",
       "      <td>1.000000</td>\n",
       "    </tr>\n",
       "  </tbody>\n",
       "</table>\n",
       "</div>"
      ],
      "text/plain": [
       "               MedInc  HouseAge  AveRooms  AveBedrms  Population  AveOccup  \\\n",
       "MedInc       1.000000 -0.119034  0.326895  -0.062040    0.004834  0.018766   \n",
       "HouseAge    -0.119034  1.000000 -0.153277  -0.077747   -0.296244  0.013191   \n",
       "AveRooms     0.326895 -0.153277  1.000000   0.847621   -0.072213 -0.004852   \n",
       "AveBedrms   -0.062040 -0.077747  0.847621   1.000000   -0.066197 -0.006181   \n",
       "Population   0.004834 -0.296244 -0.072213  -0.066197    1.000000  0.069863   \n",
       "AveOccup     0.018766  0.013191 -0.004852  -0.006181    0.069863  1.000000   \n",
       "Latitude    -0.079809  0.011173  0.106389   0.069721   -0.108785  0.002366   \n",
       "Longitude   -0.015176 -0.108197 -0.027540   0.013344    0.099773  0.002476   \n",
       "MedInc_Sqrt  0.984329 -0.132797  0.326688  -0.066910    0.018415  0.015266   \n",
       "\n",
       "             Latitude  Longitude  MedInc_Sqrt  \n",
       "MedInc      -0.079809  -0.015176     0.984329  \n",
       "HouseAge     0.011173  -0.108197    -0.132797  \n",
       "AveRooms     0.106389  -0.027540     0.326688  \n",
       "AveBedrms    0.069721   0.013344    -0.066910  \n",
       "Population  -0.108785   0.099773     0.018415  \n",
       "AveOccup     0.002366   0.002476     0.015266  \n",
       "Latitude     1.000000  -0.924664    -0.084303  \n",
       "Longitude   -0.924664   1.000000    -0.015569  \n",
       "MedInc_Sqrt -0.084303  -0.015569     1.000000  "
      ]
     },
     "execution_count": 20,
     "metadata": {},
     "output_type": "execute_result"
    }
   ],
   "source": [
    "#CORRELATED FEATURES\n",
    "\n",
    "# we can also remove features which have high correlation (pearson R)\n",
    "\n",
    "import pandas as pd\n",
    "import numpy as np\n",
    "from sklearn.datasets import fetch_california_housing\n",
    "\n",
    "data = fetch_california_housing()\n",
    "X=data['data']\n",
    "col_names=data['feature_names']\n",
    "y=data['target']\n",
    "df = pd.DataFrame(X,columns=col_names)\n",
    "\n",
    "#introduce a high correlation column\n",
    "df.loc[:,'MedInc_Sqrt'] = df.MedInc.apply(np.sqrt)\n",
    "\n",
    "#check for correlation - remove one of the 'MedInc' vars\n",
    "df.corr()"
   ]
  },
  {
   "cell_type": "code",
   "execution_count": 21,
   "metadata": {},
   "outputs": [],
   "source": [
    "# UNIVARIATE FEATURE SELECTION (scoring each feature against a target)\n",
    "#   Mutual Information, ANOVA F TEST, CHI**2 are examples\n",
    "#   There are two ways to do these in sklearn \n",
    "#   SelectKbest : keeps top k scoring features\n",
    "#   SelectPercentile: keep top features in x percentile"
   ]
  },
  {
   "cell_type": "code",
   "execution_count": 24,
   "metadata": {},
   "outputs": [],
   "source": [
    "# it's a good idea to create a wrapper for univariate feature selection, can be applied to almost any problem!\n",
    "\n",
    "from sklearn.feature_selection import chi2\n",
    "from sklearn.feature_selection import f_classif\n",
    "from sklearn.feature_selection import f_regression\n",
    "from sklearn.feature_selection import mutual_info_classif\n",
    "from sklearn.feature_selection import mutual_info_regression\n",
    "from sklearn.feature_selection import SelectKBest\n",
    "from sklearn.feature_selection import SelectPercentile\n",
    "\n",
    "class UnivariateFeatureSelection:\n",
    "    def __init__(self, n_features, problem_type, scoring):\n",
    "        \"\"\"\n",
    "        custom univariate feature selection wrapper on diff selection models from sklearn\n",
    "        n_features: SelectPercentile if float, else SelectKBest\n",
    "        problem_type: classification or regression\n",
    "        scoring: scoring function, string\n",
    "        \"\"\"\n",
    "        \n",
    "        if problem_type == 'classification':\n",
    "            valid_scoring = {\n",
    "                'f_classif': f_classif,\n",
    "                'chi2': chi2,\n",
    "                'mutual_info_classif': mutual_info_classif\n",
    "            }\n",
    "        else:\n",
    "            valid_scoring = {\n",
    "                'f_regression': f_regression,\n",
    "                'mutual_info_regression': mutual_info_regression\n",
    "            }\n",
    "        \n",
    "        if scoring not in valid_scoring:\n",
    "            raise Exception('Invalid scoring function')\n",
    "            \n",
    "        #if n_features is int, use selectKBest, else selectpercentile\n",
    "        if isinstance(n_features,int):\n",
    "            self.selection = SelectKBest( valid_scoring[scoring], k=n_features  )\n",
    "        elif isinstance(n_features,float):\n",
    "            self.selection = SelectPercentile( valid_scoring[scoring], percentile=int(n_features*100))\n",
    "        else:\n",
    "            raise Exception(\"invalid type of Feature\")\n",
    "    \n",
    "    # fit transform functions based on the scikit functions\n",
    "    def fit(self, X, y):\n",
    "        return self.selection.fit(X,y)\n",
    "    \n",
    "    def transform(self, X, y):\n",
    "        return self.selection.transform(X,y)\n",
    "    \n",
    "    def fit_transform(self, X, y):\n",
    "        return self.selection.fit_transform(X,y)"
   ]
  },
  {
   "cell_type": "code",
   "execution_count": 32,
   "metadata": {},
   "outputs": [],
   "source": [
    "#using the class is very simple - example on california housing dataset\n",
    "ufs = UnivariateFeatureSelection(\n",
    "    n_features=0.1,\n",
    "    problem_type='regression',\n",
    "    scoring='f_regression'\n",
    ")\n",
    "X_transformed = ufs.fit_transform(df,y)"
   ]
  },
  {
   "cell_type": "code",
   "execution_count": 35,
   "metadata": {},
   "outputs": [
    {
     "data": {
      "text/plain": [
       "array([[8.3252],\n",
       "       [8.3014],\n",
       "       [7.2574],\n",
       "       ...,\n",
       "       [1.7   ],\n",
       "       [1.8672],\n",
       "       [2.3886]])"
      ]
     },
     "execution_count": 35,
     "metadata": {},
     "output_type": "execute_result"
    }
   ],
   "source": [
    "#selected top 10% of features, which ended up being one feature - \"MedInc\"\n",
    "X_transformed"
   ]
  },
  {
   "cell_type": "code",
   "execution_count": 37,
   "metadata": {},
   "outputs": [
    {
     "data": {
      "text/plain": [
       "array([[   8.3252,   37.88  , -122.23  ],\n",
       "       [   8.3014,   37.86  , -122.22  ],\n",
       "       [   7.2574,   37.85  , -122.24  ],\n",
       "       ...,\n",
       "       [   1.7   ,   39.43  , -121.22  ],\n",
       "       [   1.8672,   39.43  , -121.32  ],\n",
       "       [   2.3886,   39.37  , -121.24  ]])"
      ]
     },
     "execution_count": 37,
     "metadata": {},
     "output_type": "execute_result"
    }
   ],
   "source": [
    "# RFE - recursive feature elimination (Modelling to reduce feature space)\n",
    "\n",
    "import pandas as pd\n",
    "\n",
    "from sklearn.feature_selection import RFE\n",
    "from sklearn.linear_model import LinearRegression\n",
    "from sklearn.datasets import fetch_california_housing\n",
    "\n",
    "data = fetch_california_housing()\n",
    "X=data['data']\n",
    "col_names=data['feature_names']\n",
    "y=data['target']\n",
    "df = pd.DataFrame(X,columns=col_names)\n",
    "\n",
    "model = LinearRegression()\n",
    "\n",
    "rfe = RFE(estimator=model, n_features_to_select=3)\n",
    "\n",
    "# with this, we get median income, lat, long\n",
    "rfe.fit_transform(X,y)"
   ]
  },
  {
   "cell_type": "code",
   "execution_count": 40,
   "metadata": {},
   "outputs": [
    {
     "data": {
      "image/png": "[encoded data removed]",
      "text/plain": [
       "<Figure size 432x288 with 1 Axes>"
      ]
     },
     "metadata": {
      "needs_background": "light"
     },
     "output_type": "display_data"
    }
   ],
   "source": [
    "# FEATURE IMPORTANCE / FEATURE COEFFICIENTS - logistic regression/rf have coefficients built in or knowable\n",
    "\n",
    "import pandas as pd\n",
    "import matplotlib.pyplot as plt\n",
    "from sklearn.datasets import load_diabetes\n",
    "from sklearn.ensemble import RandomForestRegressor\n",
    "\n",
    "# fetch a regression dataset\n",
    "# in diabetes data we predict diabetes progression\n",
    "# after one year based on some features\n",
    "data = load_diabetes()\n",
    "X = data[\"data\"]\n",
    "col_names = data[\"feature_names\"]\n",
    "y = data[\"target\"]\n",
    "\n",
    "# initialize the model\n",
    "model = RandomForestRegressor()\n",
    "model.fit(X,y)\n",
    "\n",
    "#plot RF features\n",
    "importances = model.feature_importances_\n",
    "idxs = np.argsort(importances)\n",
    "plt.title('Feature Importances')\n",
    "plt.barh(range(len(idxs)), importances[idxs], align='center')\n",
    "plt.yticks(range(len(idxs)), [col_names[i] for i in idxs])\n",
    "plt.xlabel('Random Forest Feature Importance')\n",
    "plt.show()"
   ]
  },
  {
   "cell_type": "code",
   "execution_count": 41,
   "metadata": {},
   "outputs": [
    {
     "name": "stdout",
     "output_type": "stream",
     "text": [
      "['bmi', 'bp', 's5']\n"
     ]
    }
   ],
   "source": [
    "# FEATURE IMPORTANCE 2 : SelectFromModel (scikit)\n",
    "#    this uses default params, but can set max_features or threshold value of feature importance\n",
    "\n",
    "import pandas as pd\n",
    "from sklearn.datasets import load_diabetes\n",
    "from sklearn.ensemble import RandomForestRegressor\n",
    "from sklearn.feature_selection import SelectFromModel\n",
    "\n",
    "# fetch a regression dataset\n",
    "# in diabetes data we predict diabetes progression\n",
    "# after one year based on some features\n",
    "\n",
    "data = load_diabetes()\n",
    "X = data[\"data\"]\n",
    "col_names = data[\"feature_names\"]\n",
    "y = data[\"target\"]\n",
    "\n",
    "# initialize the model\n",
    "model = RandomForestRegressor()\n",
    "\n",
    "# select from the model\n",
    "sfm = SelectFromModel(estimator=model)\n",
    "X_transformed = sfm.fit_transform(X,y)\n",
    "\n",
    "#see which features were selected\n",
    "support = sfm.get_support()\n",
    "\n",
    "#get feature names\n",
    "print([ x for x,y in zip(col_names,support) if y ==True])"
   ]
  },
  {
   "cell_type": "markdown",
   "metadata": {},
   "source": [
    "# Chapter 8: Hyperparameter Optimization"
   ]
  },
  {
   "cell_type": "code",
   "execution_count": 5,
   "metadata": {},
   "outputs": [
    {
     "name": "stdout",
     "output_type": "stream",
     "text": [
      "Fitting 5 folds for each of 72 candidates, totalling 360 fits\n"
     ]
    },
    {
     "name": "stderr",
     "output_type": "stream",
     "text": [
      "[Parallel(n_jobs=-1)]: Using backend LokyBackend with 16 concurrent workers.\n",
      "[Parallel(n_jobs=-1)]: Batch computation too fast (0.1788s.) Setting batch_size=2.\n",
      "[Parallel(n_jobs=-1)]: Done   9 tasks      | elapsed:    0.3s\n",
      "[Parallel(n_jobs=-1)]: Done  18 tasks      | elapsed:    0.7s\n",
      "[Parallel(n_jobs=-1)]: Done  30 tasks      | elapsed:    1.2s\n",
      "[Parallel(n_jobs=-1)]: Done  48 tasks      | elapsed:    2.2s\n",
      "[Parallel(n_jobs=-1)]: Batch computation too slow (2.0900s.) Setting batch_size=1.\n",
      "[Parallel(n_jobs=-1)]: Done  74 tasks      | elapsed:    3.3s\n",
      "[Parallel(n_jobs=-1)]: Done 100 tasks      | elapsed:    4.8s\n",
      "[Parallel(n_jobs=-1)]: Done 125 tasks      | elapsed:    6.1s\n",
      "[Parallel(n_jobs=-1)]: Done 143 tasks      | elapsed:    7.2s\n",
      "[Parallel(n_jobs=-1)]: Done 161 tasks      | elapsed:    8.3s\n",
      "[Parallel(n_jobs=-1)]: Done 178 tasks      | elapsed:    9.4s\n",
      "[Parallel(n_jobs=-1)]: Done 197 tasks      | elapsed:   10.6s\n",
      "[Parallel(n_jobs=-1)]: Done 216 tasks      | elapsed:   11.4s\n",
      "[Parallel(n_jobs=-1)]: Done 237 tasks      | elapsed:   12.3s\n",
      "[Parallel(n_jobs=-1)]: Done 258 tasks      | elapsed:   13.5s\n",
      "[Parallel(n_jobs=-1)]: Done 281 tasks      | elapsed:   15.0s\n",
      "[Parallel(n_jobs=-1)]: Done 304 tasks      | elapsed:   16.8s\n",
      "[Parallel(n_jobs=-1)]: Done 329 tasks      | elapsed:   18.8s\n",
      "[Parallel(n_jobs=-1)]: Done 360 out of 360 | elapsed:   22.0s finished\n"
     ]
    },
    {
     "name": "stdout",
     "output_type": "stream",
     "text": [
      "Best score: 0.889\n",
      "best params set:\n",
      "\tcriterion: entropy\n",
      "\tmax_depth: 15\n",
      "\tn_estimators: 500\n"
     ]
    }
   ],
   "source": [
    "# grid search of best cominbation of parameters \n",
    "import numpy as np\n",
    "import pandas as pd\n",
    "\n",
    "from sklearn import ensemble\n",
    "from sklearn import metrics\n",
    "from sklearn import model_selection\n",
    "\n",
    "df = pd.read_csv('mobile_train.csv')\n",
    "\n",
    "\n",
    "#target is price range\n",
    "y = df.price_range.values\n",
    "\n",
    "X = df.drop('price_range',axis=1).values\n",
    "\n",
    "#define model\n",
    "classifier = ensemble.RandomForestClassifier(n_jobs=-1)\n",
    "\n",
    "#grid params\n",
    "param_grid = {\n",
    "    'n_estimators': [100,200,250,300,400,500],\n",
    "    'max_depth': [1,2,5,6,11,15],\n",
    "    'criterion':['gini','entropy']\n",
    "}\n",
    "\n",
    "#init GridSearchCV()\n",
    "\n",
    "model = model_selection.GridSearchCV(\n",
    "    estimator= classifier,\n",
    "    param_grid = param_grid,\n",
    "    scoring= 'accuracy',\n",
    "    verbose=10,\n",
    "    n_jobs=-1,\n",
    "    cv=5\n",
    ")\n",
    "\n",
    "model.fit(X,y)\n",
    "print(f\"Best score: {model.best_score_}\")\n",
    "\n",
    "print('best params set:')\n",
    "best_params = model.best_estimator_.get_params()\n",
    "for param_name in sorted(param_grid.keys()):\n",
    "    print(f\"\\t{param_name}: {best_params[param_name]}\")"
   ]
  },
  {
   "cell_type": "code",
   "execution_count": 10,
   "metadata": {},
   "outputs": [],
   "source": [
    "# another option is to do random search instead of grid search\n",
    "#  this is faster than grid search if the # of iterations are less\n",
    "#   model_selection.RandomizedSearchCV()\n",
    "\n",
    "# pipelines - help for best process and 'in-cv' transformations\n",
    "\n",
    "# scikit optimization - help with hyperparam optimization a step further\n",
    "#   hyperopt does the same thing but uses trees"
   ]
  },
  {
   "cell_type": "markdown",
   "metadata": {},
   "source": [
    "# Chapter 9: Image Classification"
   ]
  },
  {
   "cell_type": "code",
   "execution_count": 2,
   "metadata": {},
   "outputs": [
    {
     "data": {
      "image/png": "[encoded data removed]",
      "text/plain": [
       "<Figure size 504x504 with 1 Axes>"
      ]
     },
     "metadata": {
      "needs_background": "light"
     },
     "output_type": "display_data"
    }
   ],
   "source": [
    "#pg 185\n",
    "\n",
    "import numpy as np\n",
    "import matplotlib.pyplot as plt\n",
    "\n",
    "#generate random np array w values 0 to 255, and size of 256x256\n",
    "random_image = np.random.randint(0,256,(256,256))\n",
    "\n",
    "#init plot\n",
    "plt.figure(figsize=(7,7))\n",
    "\n",
    "#show grayscale img\n",
    "plt.imshow(random_image,cmap='gray')\n",
    "plt.show()"
   ]
  },
  {
   "cell_type": "code",
   "execution_count": 3,
   "metadata": {},
   "outputs": [
    {
     "data": {
      "text/plain": [
       "(65536,)"
      ]
     },
     "execution_count": 3,
     "metadata": {},
     "output_type": "execute_result"
    }
   ],
   "source": [
    "#one image can be represented by unravelling the matrix so we have 65k features in this one observation\n",
    "random_image.ravel().shape"
   ]
  },
  {
   "cell_type": "markdown",
   "metadata": {},
   "source": [
    "# Chapter 10: Approaching Text"
   ]
  },
  {
   "cell_type": "code",
   "execution_count": 5,
   "metadata": {},
   "outputs": [
    {
     "data": {
      "text/plain": [
       "['hi', ',', 'how', 'are', 'you', '?']"
      ]
     },
     "execution_count": 5,
     "metadata": {},
     "output_type": "execute_result"
    }
   ],
   "source": [
    "# Splitting a string into a list of words = tokenization\n",
    "\n",
    "from nltk.tokenize import word_tokenize\n",
    "\n",
    "sentence = 'hi, how are you?'\n",
    "\n",
    "sentence.split()\n",
    "\n",
    "#using NTLK's word tokenize, the sentence is split in a better manner\n",
    "word_tokenize(sentence)"
   ]
  },
  {
   "cell_type": "code",
   "execution_count": 6,
   "metadata": {},
   "outputs": [
    {
     "name": "stdout",
     "output_type": "stream",
     "text": [
      "  (0, 9)\t1\n",
      "  (0, 11)\t1\n",
      "  (0, 2)\t1\n",
      "  (0, 22)\t1\n",
      "  (1, 22)\t2\n",
      "  (1, 13)\t1\n",
      "  (1, 8)\t1\n",
      "  (1, 4)\t1\n",
      "  (1, 3)\t1\n",
      "  (1, 10)\t1\n",
      "  (1, 1)\t1\n",
      "  (1, 19)\t1\n",
      "  (1, 7)\t1\n",
      "  (1, 17)\t1\n",
      "  (2, 22)\t1\n",
      "  (2, 6)\t1\n",
      "  (2, 14)\t1\n",
      "  (2, 0)\t1\n",
      "  (2, 5)\t1\n",
      "  (3, 15)\t1\n",
      "  (3, 16)\t1\n",
      "  (3, 12)\t1\n",
      "  (3, 18)\t1\n",
      "  (3, 20)\t1\n",
      "  (4, 21)\t1\n"
     ]
    }
   ],
   "source": [
    "# Bag of Words = we create huge sparse matrix that stores counts of all words in our corpus\n",
    "#  CountVectorizer from sklearn\n",
    "\n",
    "from sklearn.feature_extraction.text import CountVectorizer\n",
    "\n",
    "# create a corpus of sentences\n",
    "corpus = [\n",
    " \"hello, how are you?\",\n",
    " \"im getting bored at home. And you? What do you think?\",\n",
    " \"did you know about counts\",\n",
    " \"let's see if this works!\",\n",
    " \"YES!!!!\"\n",
    "]\n",
    "\n",
    "ctv = CountVectorizer()\n",
    "\n",
    "#fit on corpus\n",
    "corpus_trans = ctv.fit_transform(corpus)\n",
    "\n",
    "#each item corresponds to index 0 and each word gets assigned an index in index 1\n",
    "#  words in range 0 - 22\n",
    "print(corpus_trans)"
   ]
  },
  {
   "cell_type": "code",
   "execution_count": 14,
   "metadata": {},
   "outputs": [
    {
     "name": "stdout",
     "output_type": "stream",
     "text": [
      "{'hello': 14, ',': 2, 'how': 16, 'are': 7, 'you': 27, '?': 4, 'im': 18, 'getting': 13, 'bored': 9, 'at': 8, 'home': 15, '.': 3, 'and': 6, 'what': 24, 'do': 12, 'think': 22, 'did': 11, 'know': 19, 'about': 5, 'counts': 10, 'let': 20, \"'s\": 1, 'see': 21, 'if': 17, 'this': 23, 'works': 25, '!': 0, 'yes': 26}\n"
     ]
    }
   ],
   "source": [
    "# pg 230\n",
    "#  incorporate word tokenize with countvectorizer\n",
    "\n",
    "ctv = CountVectorizer(tokenizer=word_tokenize, token_pattern=None)\n",
    "\n",
    "corpus_trans = ctv.fit_transform(corpus)\n",
    "print(ctv.vocabulary_)"
   ]
  },
  {
   "cell_type": "code",
   "execution_count": 4,
   "metadata": {},
   "outputs": [
    {
     "ename": "KeyboardInterrupt",
     "evalue": "",
     "output_type": "error",
     "traceback": [
      "\u001b[1;31m---------------------------------------------------------------------------\u001b[0m",
      "\u001b[1;31mKeyboardInterrupt\u001b[0m                         Traceback (most recent call last)",
      "\u001b[1;32m<ipython-input-4-3d0745cc8af0>\u001b[0m in \u001b[0;36m<module>\u001b[1;34m\u001b[0m\n\u001b[0;32m     41\u001b[0m         )\n\u001b[0;32m     42\u001b[0m \u001b[1;33m\u001b[0m\u001b[0m\n\u001b[1;32m---> 43\u001b[1;33m     \u001b[0mcount_vec\u001b[0m\u001b[1;33m.\u001b[0m\u001b[0mfit\u001b[0m\u001b[1;33m(\u001b[0m\u001b[0mtrain_df\u001b[0m\u001b[1;33m.\u001b[0m\u001b[0mreview\u001b[0m\u001b[1;33m)\u001b[0m\u001b[1;33m\u001b[0m\u001b[1;33m\u001b[0m\u001b[0m\n\u001b[0m\u001b[0;32m     44\u001b[0m \u001b[1;33m\u001b[0m\u001b[0m\n\u001b[0;32m     45\u001b[0m         \u001b[1;31m#transform train and validation reviews\u001b[0m\u001b[1;33m\u001b[0m\u001b[1;33m\u001b[0m\u001b[1;33m\u001b[0m\u001b[0m\n",
      "\u001b[1;32m~\\anaconda3\\lib\\site-packages\\sklearn\\feature_extraction\\text.py\u001b[0m in \u001b[0;36mfit\u001b[1;34m(self, raw_documents, y)\u001b[0m\n\u001b[0;32m   1163\u001b[0m         \"\"\"\n\u001b[0;32m   1164\u001b[0m         \u001b[0mself\u001b[0m\u001b[1;33m.\u001b[0m\u001b[0m_warn_for_unused_params\u001b[0m\u001b[1;33m(\u001b[0m\u001b[1;33m)\u001b[0m\u001b[1;33m\u001b[0m\u001b[1;33m\u001b[0m\u001b[0m\n\u001b[1;32m-> 1165\u001b[1;33m         \u001b[0mself\u001b[0m\u001b[1;33m.\u001b[0m\u001b[0mfit_transform\u001b[0m\u001b[1;33m(\u001b[0m\u001b[0mraw_documents\u001b[0m\u001b[1;33m)\u001b[0m\u001b[1;33m\u001b[0m\u001b[1;33m\u001b[0m\u001b[0m\n\u001b[0m\u001b[0;32m   1166\u001b[0m         \u001b[1;32mreturn\u001b[0m \u001b[0mself\u001b[0m\u001b[1;33m\u001b[0m\u001b[1;33m\u001b[0m\u001b[0m\n\u001b[0;32m   1167\u001b[0m \u001b[1;33m\u001b[0m\u001b[0m\n",
      "\u001b[1;32m~\\anaconda3\\lib\\site-packages\\sklearn\\feature_extraction\\text.py\u001b[0m in \u001b[0;36mfit_transform\u001b[1;34m(self, raw_documents, y)\u001b[0m\n\u001b[0;32m   1196\u001b[0m         \u001b[0mmax_features\u001b[0m \u001b[1;33m=\u001b[0m \u001b[0mself\u001b[0m\u001b[1;33m.\u001b[0m\u001b[0mmax_features\u001b[0m\u001b[1;33m\u001b[0m\u001b[1;33m\u001b[0m\u001b[0m\n\u001b[0;32m   1197\u001b[0m \u001b[1;33m\u001b[0m\u001b[0m\n\u001b[1;32m-> 1198\u001b[1;33m         vocabulary, X = self._count_vocab(raw_documents,\n\u001b[0m\u001b[0;32m   1199\u001b[0m                                           self.fixed_vocabulary_)\n\u001b[0;32m   1200\u001b[0m \u001b[1;33m\u001b[0m\u001b[0m\n",
      "\u001b[1;32m~\\anaconda3\\lib\\site-packages\\sklearn\\feature_extraction\\text.py\u001b[0m in \u001b[0;36m_count_vocab\u001b[1;34m(self, raw_documents, fixed_vocab)\u001b[0m\n\u001b[0;32m   1108\u001b[0m         \u001b[1;32mfor\u001b[0m \u001b[0mdoc\u001b[0m \u001b[1;32min\u001b[0m \u001b[0mraw_documents\u001b[0m\u001b[1;33m:\u001b[0m\u001b[1;33m\u001b[0m\u001b[1;33m\u001b[0m\u001b[0m\n\u001b[0;32m   1109\u001b[0m             \u001b[0mfeature_counter\u001b[0m \u001b[1;33m=\u001b[0m \u001b[1;33m{\u001b[0m\u001b[1;33m}\u001b[0m\u001b[1;33m\u001b[0m\u001b[1;33m\u001b[0m\u001b[0m\n\u001b[1;32m-> 1110\u001b[1;33m             \u001b[1;32mfor\u001b[0m \u001b[0mfeature\u001b[0m \u001b[1;32min\u001b[0m \u001b[0manalyze\u001b[0m\u001b[1;33m(\u001b[0m\u001b[0mdoc\u001b[0m\u001b[1;33m)\u001b[0m\u001b[1;33m:\u001b[0m\u001b[1;33m\u001b[0m\u001b[1;33m\u001b[0m\u001b[0m\n\u001b[0m\u001b[0;32m   1111\u001b[0m                 \u001b[1;32mtry\u001b[0m\u001b[1;33m:\u001b[0m\u001b[1;33m\u001b[0m\u001b[1;33m\u001b[0m\u001b[0m\n\u001b[0;32m   1112\u001b[0m                     \u001b[0mfeature_idx\u001b[0m \u001b[1;33m=\u001b[0m \u001b[0mvocabulary\u001b[0m\u001b[1;33m[\u001b[0m\u001b[0mfeature\u001b[0m\u001b[1;33m]\u001b[0m\u001b[1;33m\u001b[0m\u001b[1;33m\u001b[0m\u001b[0m\n",
      "\u001b[1;32m~\\anaconda3\\lib\\site-packages\\sklearn\\feature_extraction\\text.py\u001b[0m in \u001b[0;36m_analyze\u001b[1;34m(doc, analyzer, tokenizer, ngrams, preprocessor, decoder, stop_words)\u001b[0m\n\u001b[0;32m    104\u001b[0m             \u001b[0mdoc\u001b[0m \u001b[1;33m=\u001b[0m \u001b[0mpreprocessor\u001b[0m\u001b[1;33m(\u001b[0m\u001b[0mdoc\u001b[0m\u001b[1;33m)\u001b[0m\u001b[1;33m\u001b[0m\u001b[1;33m\u001b[0m\u001b[0m\n\u001b[0;32m    105\u001b[0m         \u001b[1;32mif\u001b[0m \u001b[0mtokenizer\u001b[0m \u001b[1;32mis\u001b[0m \u001b[1;32mnot\u001b[0m \u001b[1;32mNone\u001b[0m\u001b[1;33m:\u001b[0m\u001b[1;33m\u001b[0m\u001b[1;33m\u001b[0m\u001b[0m\n\u001b[1;32m--> 106\u001b[1;33m             \u001b[0mdoc\u001b[0m \u001b[1;33m=\u001b[0m \u001b[0mtokenizer\u001b[0m\u001b[1;33m(\u001b[0m\u001b[0mdoc\u001b[0m\u001b[1;33m)\u001b[0m\u001b[1;33m\u001b[0m\u001b[1;33m\u001b[0m\u001b[0m\n\u001b[0m\u001b[0;32m    107\u001b[0m         \u001b[1;32mif\u001b[0m \u001b[0mngrams\u001b[0m \u001b[1;32mis\u001b[0m \u001b[1;32mnot\u001b[0m \u001b[1;32mNone\u001b[0m\u001b[1;33m:\u001b[0m\u001b[1;33m\u001b[0m\u001b[1;33m\u001b[0m\u001b[0m\n\u001b[0;32m    108\u001b[0m             \u001b[1;32mif\u001b[0m \u001b[0mstop_words\u001b[0m \u001b[1;32mis\u001b[0m \u001b[1;32mnot\u001b[0m \u001b[1;32mNone\u001b[0m\u001b[1;33m:\u001b[0m\u001b[1;33m\u001b[0m\u001b[1;33m\u001b[0m\u001b[0m\n",
      "\u001b[1;32m~\\anaconda3\\lib\\site-packages\\nltk\\tokenize\\__init__.py\u001b[0m in \u001b[0;36mword_tokenize\u001b[1;34m(text, language, preserve_line)\u001b[0m\n\u001b[0;32m    128\u001b[0m     \"\"\"\n\u001b[0;32m    129\u001b[0m     \u001b[0msentences\u001b[0m \u001b[1;33m=\u001b[0m \u001b[1;33m[\u001b[0m\u001b[0mtext\u001b[0m\u001b[1;33m]\u001b[0m \u001b[1;32mif\u001b[0m \u001b[0mpreserve_line\u001b[0m \u001b[1;32melse\u001b[0m \u001b[0msent_tokenize\u001b[0m\u001b[1;33m(\u001b[0m\u001b[0mtext\u001b[0m\u001b[1;33m,\u001b[0m \u001b[0mlanguage\u001b[0m\u001b[1;33m)\u001b[0m\u001b[1;33m\u001b[0m\u001b[1;33m\u001b[0m\u001b[0m\n\u001b[1;32m--> 130\u001b[1;33m     return [\n\u001b[0m\u001b[0;32m    131\u001b[0m         \u001b[0mtoken\u001b[0m \u001b[1;32mfor\u001b[0m \u001b[0msent\u001b[0m \u001b[1;32min\u001b[0m \u001b[0msentences\u001b[0m \u001b[1;32mfor\u001b[0m \u001b[0mtoken\u001b[0m \u001b[1;32min\u001b[0m \u001b[0m_treebank_word_tokenizer\u001b[0m\u001b[1;33m.\u001b[0m\u001b[0mtokenize\u001b[0m\u001b[1;33m(\u001b[0m\u001b[0msent\u001b[0m\u001b[1;33m)\u001b[0m\u001b[1;33m\u001b[0m\u001b[1;33m\u001b[0m\u001b[0m\n\u001b[0;32m    132\u001b[0m     ]\n",
      "\u001b[1;32m~\\anaconda3\\lib\\site-packages\\nltk\\tokenize\\__init__.py\u001b[0m in \u001b[0;36m<listcomp>\u001b[1;34m(.0)\u001b[0m\n\u001b[0;32m    129\u001b[0m     \u001b[0msentences\u001b[0m \u001b[1;33m=\u001b[0m \u001b[1;33m[\u001b[0m\u001b[0mtext\u001b[0m\u001b[1;33m]\u001b[0m \u001b[1;32mif\u001b[0m \u001b[0mpreserve_line\u001b[0m \u001b[1;32melse\u001b[0m \u001b[0msent_tokenize\u001b[0m\u001b[1;33m(\u001b[0m\u001b[0mtext\u001b[0m\u001b[1;33m,\u001b[0m \u001b[0mlanguage\u001b[0m\u001b[1;33m)\u001b[0m\u001b[1;33m\u001b[0m\u001b[1;33m\u001b[0m\u001b[0m\n\u001b[0;32m    130\u001b[0m     return [\n\u001b[1;32m--> 131\u001b[1;33m         \u001b[0mtoken\u001b[0m \u001b[1;32mfor\u001b[0m \u001b[0msent\u001b[0m \u001b[1;32min\u001b[0m \u001b[0msentences\u001b[0m \u001b[1;32mfor\u001b[0m \u001b[0mtoken\u001b[0m \u001b[1;32min\u001b[0m \u001b[0m_treebank_word_tokenizer\u001b[0m\u001b[1;33m.\u001b[0m\u001b[0mtokenize\u001b[0m\u001b[1;33m(\u001b[0m\u001b[0msent\u001b[0m\u001b[1;33m)\u001b[0m\u001b[1;33m\u001b[0m\u001b[1;33m\u001b[0m\u001b[0m\n\u001b[0m\u001b[0;32m    132\u001b[0m     ]\n",
      "\u001b[1;32m~\\anaconda3\\lib\\site-packages\\nltk\\tokenize\\destructive.py\u001b[0m in \u001b[0;36mtokenize\u001b[1;34m(self, text, convert_parentheses, return_str)\u001b[0m\n\u001b[0;32m    109\u001b[0m \u001b[1;33m\u001b[0m\u001b[0m\n\u001b[0;32m    110\u001b[0m         \u001b[1;32mfor\u001b[0m \u001b[0mregexp\u001b[0m\u001b[1;33m,\u001b[0m \u001b[0msubstitution\u001b[0m \u001b[1;32min\u001b[0m \u001b[0mself\u001b[0m\u001b[1;33m.\u001b[0m\u001b[0mPUNCTUATION\u001b[0m\u001b[1;33m:\u001b[0m\u001b[1;33m\u001b[0m\u001b[1;33m\u001b[0m\u001b[0m\n\u001b[1;32m--> 111\u001b[1;33m             \u001b[0mtext\u001b[0m \u001b[1;33m=\u001b[0m \u001b[0mregexp\u001b[0m\u001b[1;33m.\u001b[0m\u001b[0msub\u001b[0m\u001b[1;33m(\u001b[0m\u001b[0msubstitution\u001b[0m\u001b[1;33m,\u001b[0m \u001b[0mtext\u001b[0m\u001b[1;33m)\u001b[0m\u001b[1;33m\u001b[0m\u001b[1;33m\u001b[0m\u001b[0m\n\u001b[0m\u001b[0;32m    112\u001b[0m \u001b[1;33m\u001b[0m\u001b[0m\n\u001b[0;32m    113\u001b[0m         \u001b[1;31m# Handles parentheses.\u001b[0m\u001b[1;33m\u001b[0m\u001b[1;33m\u001b[0m\u001b[1;33m\u001b[0m\u001b[0m\n",
      "\u001b[1;32m~\\anaconda3\\lib\\re.py\u001b[0m in \u001b[0;36m_subx\u001b[1;34m(pattern, template)\u001b[0m\n\u001b[0;32m    325\u001b[0m \u001b[1;32mdef\u001b[0m \u001b[0m_subx\u001b[0m\u001b[1;33m(\u001b[0m\u001b[0mpattern\u001b[0m\u001b[1;33m,\u001b[0m \u001b[0mtemplate\u001b[0m\u001b[1;33m)\u001b[0m\u001b[1;33m:\u001b[0m\u001b[1;33m\u001b[0m\u001b[1;33m\u001b[0m\u001b[0m\n\u001b[0;32m    326\u001b[0m     \u001b[1;31m# internal: Pattern.sub/subn implementation helper\u001b[0m\u001b[1;33m\u001b[0m\u001b[1;33m\u001b[0m\u001b[1;33m\u001b[0m\u001b[0m\n\u001b[1;32m--> 327\u001b[1;33m     \u001b[0mtemplate\u001b[0m \u001b[1;33m=\u001b[0m \u001b[0m_compile_repl\u001b[0m\u001b[1;33m(\u001b[0m\u001b[0mtemplate\u001b[0m\u001b[1;33m,\u001b[0m \u001b[0mpattern\u001b[0m\u001b[1;33m)\u001b[0m\u001b[1;33m\u001b[0m\u001b[1;33m\u001b[0m\u001b[0m\n\u001b[0m\u001b[0;32m    328\u001b[0m     \u001b[1;32mif\u001b[0m \u001b[1;32mnot\u001b[0m \u001b[0mtemplate\u001b[0m\u001b[1;33m[\u001b[0m\u001b[1;36m0\u001b[0m\u001b[1;33m]\u001b[0m \u001b[1;32mand\u001b[0m \u001b[0mlen\u001b[0m\u001b[1;33m(\u001b[0m\u001b[0mtemplate\u001b[0m\u001b[1;33m[\u001b[0m\u001b[1;36m1\u001b[0m\u001b[1;33m]\u001b[0m\u001b[1;33m)\u001b[0m \u001b[1;33m==\u001b[0m \u001b[1;36m1\u001b[0m\u001b[1;33m:\u001b[0m\u001b[1;33m\u001b[0m\u001b[1;33m\u001b[0m\u001b[0m\n\u001b[0;32m    329\u001b[0m         \u001b[1;31m# literal replacement\u001b[0m\u001b[1;33m\u001b[0m\u001b[1;33m\u001b[0m\u001b[1;33m\u001b[0m\u001b[0m\n",
      "\u001b[1;31mKeyboardInterrupt\u001b[0m: "
     ]
    }
   ],
   "source": [
    "# IMDB data set -- Create a sparse matrix by using all sentences\n",
    "#   ratio of positive to negative examples is 1:1, thus we can use accuracy\n",
    "#   which model? the one that is fastest for high dim, sparse data;\n",
    "#     LOGISTIC REGRESSION\n",
    "# this takes a long time to run----------------------------\n",
    "\n",
    "import pandas as pd\n",
    "\n",
    "from nltk.tokenize import word_tokenize\n",
    "from sklearn import linear_model\n",
    "from sklearn import metrics\n",
    "from sklearn import model_selection\n",
    "from sklearn.feature_extraction.text import CountVectorizer\n",
    "\n",
    "df = pd.read_csv('imdb.csv')\n",
    "    \n",
    "df.sentiment = df.sentiment.apply(lambda x: 1 if x =='positive' else 0)\n",
    "df['kfold'] = -1\n",
    "df = df.sample(frac=1).reset_index(drop=True)\n",
    "y = df.sentiment.values\n",
    "    \n",
    "    #init kfold class\n",
    "kf = model_selection.StratifiedKFold(n_splits=5)\n",
    "    \n",
    "    #fill the new kfold column\n",
    "for f,(t,v) in enumerate(kf.split(X=df,y=y)):\n",
    "    df.loc[v,'kfold'] = f\n",
    "        \n",
    "    #we iterate over folds\n",
    "for fold_ in range(5):\n",
    "        #temp dfs for train and test\n",
    "    train_df = df[df.kfold != fold_].reset_index(drop=True)\n",
    "    test_df = df[df.kfold == fold_].reset_index(drop=True)\n",
    "        \n",
    "        #count vec w NLTK word tokenizer\n",
    "    count_vec = CountVectorizer(\n",
    "        tokenizer = word_tokenize,\n",
    "        token_pattern= None\n",
    "        )\n",
    "        \n",
    "    count_vec.fit(train_df.review)\n",
    "        \n",
    "        #transform train and validation reviews\n",
    "xtrain = count_vec.transform(train_df.review)\n",
    "xtest = count_vec.transform(test_df.review)\n",
    "        \n",
    "model = linear_model.LogisticRegression()\n",
    "        \n",
    "model.fit(xtrain,train_df.sentiment)\n",
    "        \n",
    "preds = model.predict(xtest)\n",
    "        \n",
    "accuracy = metrics.accuracy_score(test_df.sentiment,preds)\n",
    "        \n",
    "print(f\"Fold: {fold_}\")\n",
    "print(f\"Accuracy = {accuracy}\")\n",
    "print(\"\")"
   ]
  },
  {
   "cell_type": "code",
   "execution_count": 2,
   "metadata": {},
   "outputs": [
    {
     "name": "stdout",
     "output_type": "stream",
     "text": [
      "Fold: 0\n",
      "Accuracy = 0.8459\n",
      "\n",
      "Fold: 1\n",
      "Accuracy = 0.8423\n",
      "\n",
      "Fold: 2\n",
      "Accuracy = 0.8399\n",
      "\n",
      "Fold: 3\n",
      "Accuracy = 0.847\n",
      "\n",
      "Fold: 4\n",
      "Accuracy = 0.8479\n",
      "\n"
     ]
    }
   ],
   "source": [
    "#Naive Bayes is a popular algo for NLP tasks as it is efficient with sparse matricies, so much faster to train\n",
    "# MultinomialNB from sklearn\n",
    "\n",
    "import pandas as pd\n",
    "\n",
    "from nltk.tokenize import word_tokenize\n",
    "from sklearn import naive_bayes\n",
    "from sklearn import metrics\n",
    "from sklearn import model_selection\n",
    "from sklearn.feature_extraction.text import CountVectorizer\n",
    "\n",
    "df = pd.read_csv('imdb.csv')\n",
    "    \n",
    "df.sentiment = df.sentiment.apply(lambda x: 1 if x =='positive' else 0)\n",
    "    \n",
    "df['kfold'] = -1\n",
    "    \n",
    "df = df.sample(frac=1).reset_index(drop=True)\n",
    "    \n",
    "    #get target\n",
    "y = df.sentiment.values\n",
    "    \n",
    "    #init kfold class\n",
    "kf = model_selection.StratifiedKFold(n_splits=5)\n",
    "    \n",
    "    #fill the new kfold column\n",
    "for f,(t,v) in enumerate(kf.split(X=df,y=y)):\n",
    "    df.loc[v,'kfold'] = f\n",
    "        \n",
    "    #we iterate over folds\n",
    "for fold_ in range(5):\n",
    "        #temp dfs for train and test\n",
    "    train_df = df[df.kfold != fold_].reset_index(drop=True)\n",
    "    test_df = df[df.kfold == fold_].reset_index(drop=True)\n",
    "        \n",
    "        #count vec w NLTK word tokenizer\n",
    "    count_vec = CountVectorizer(\n",
    "        tokenizer = word_tokenize,\n",
    "        token_pattern= None\n",
    "        )\n",
    "        \n",
    "    count_vec.fit(train_df.review)\n",
    "        \n",
    "        #transform train and validation reviews\n",
    "    xtrain = count_vec.transform(train_df.review)\n",
    "    xtest = count_vec.transform(test_df.review)\n",
    "        \n",
    "    #MODEL CHANGE TO NAIVE BAYES-----------------    \n",
    "    model = naive_bayes.MultinomialNB()\n",
    "        \n",
    "    model.fit(xtrain,train_df.sentiment)\n",
    "            \n",
    "    preds = model.predict(xtest)\n",
    "        \n",
    "    accuracy = metrics.accuracy_score(test_df.sentiment,preds)\n",
    "        \n",
    "    print(f\"Fold: {fold_}\")\n",
    "    print(f\"Accuracy = {accuracy}\")\n",
    "    print(\"\")"
   ]
  },
  {
   "cell_type": "markdown",
   "metadata": {},
   "source": [
    "### Term Frequencies / Document Frequencies"
   ]
  },
  {
   "cell_type": "code",
   "execution_count": null,
   "metadata": {},
   "outputs": [],
   "source": [
    "#pg 234\n",
    "\n",
    "#TF-IDF (AKA term frequencies-inverse docuemnt frequencies), TfidfVectorizer in sklearn\n",
    "\n",
    "#TF(t) = # of times term t appears in document / total # of terms in document\n",
    "\n",
    "#IDF(t) = LOG( N # of documents / # of documents with term t in it)\n",
    "\n",
    "#TF-IDF(t) = TF(t) * IDF(t)"
   ]
  },
  {
   "cell_type": "code",
   "execution_count": 3,
   "metadata": {},
   "outputs": [
    {
     "name": "stdout",
     "output_type": "stream",
     "text": [
      "Fold: 0\n",
      "Accuracy = 0.8988\n",
      "\n",
      "Fold: 1\n",
      "Accuracy = 0.8972\n",
      "\n",
      "Fold: 2\n",
      "Accuracy = 0.895\n",
      "\n",
      "Fold: 3\n",
      "Accuracy = 0.8927\n",
      "\n",
      "Fold: 4\n",
      "Accuracy = 0.8984\n",
      "\n"
     ]
    },
    {
     "name": "stderr",
     "output_type": "stream",
     "text": [
      "C:\\Users\\meich\\anaconda3\\lib\\site-packages\\sklearn\\linear_model\\_logistic.py:762: ConvergenceWarning: lbfgs failed to converge (status=1):\n",
      "STOP: TOTAL NO. of ITERATIONS REACHED LIMIT.\n",
      "\n",
      "Increase the number of iterations (max_iter) or scale the data as shown in:\n",
      "    https://scikit-learn.org/stable/modules/preprocessing.html\n",
      "Please also refer to the documentation for alternative solver options:\n",
      "    https://scikit-learn.org/stable/modules/linear_model.html#logistic-regression\n",
      "  n_iter_i = _check_optimize_result(\n"
     ]
    }
   ],
   "source": [
    "import pandas as pd\n",
    "\n",
    "from nltk.tokenize import word_tokenize\n",
    "from sklearn import linear_model\n",
    "from sklearn import metrics\n",
    "from sklearn import model_selection\n",
    "from sklearn.feature_extraction.text import TfidfVectorizer\n",
    "\n",
    "df = pd.read_csv('imdb.csv')\n",
    "    \n",
    "df.sentiment = df.sentiment.apply(lambda x: 1 if x =='positive' else 0)\n",
    "df['kfold'] = -1\n",
    "df = df.sample(frac=1).reset_index(drop=True)\n",
    "y = df.sentiment.values\n",
    "    \n",
    "    #init kfold class\n",
    "kf = model_selection.StratifiedKFold(n_splits=5)\n",
    "    \n",
    "    #fill the new kfold column\n",
    "for f,(t,v) in enumerate(kf.split(X=df,y=y)):\n",
    "    df.loc[v,'kfold'] = f\n",
    "        \n",
    "    #we iterate over folds\n",
    "for fold_ in range(5):\n",
    "        #temp dfs for train and test\n",
    "    train_df = df[df.kfold != fold_].reset_index(drop=True)\n",
    "    test_df = df[df.kfold == fold_].reset_index(drop=True)\n",
    "        \n",
    "        #count vec w NLTK word tokenizer\n",
    "    tfidf_vec = TfidfVectorizer(\n",
    "        tokenizer = word_tokenize,\n",
    "        token_pattern= None\n",
    "        )\n",
    "        \n",
    "    tfidf_vec.fit(train_df.review)\n",
    "        \n",
    "        #transform train and validation reviews\n",
    "    xtrain = tfidf_vec.transform(train_df.review)\n",
    "    xtest = tfidf_vec.transform(test_df.review)\n",
    "        \n",
    "    model = linear_model.LogisticRegression()\n",
    "        \n",
    "    model.fit(xtrain,train_df.sentiment)\n",
    "        \n",
    "    preds = model.predict(xtest)\n",
    "        \n",
    "    accuracy = metrics.accuracy_score(test_df.sentiment,preds)\n",
    "        \n",
    "    print(f\"Fold: {fold_}\")\n",
    "    print(f\"Accuracy = {accuracy}\")\n",
    "    print(\"\")"
   ]
  },
  {
   "cell_type": "code",
   "execution_count": 4,
   "metadata": {},
   "outputs": [],
   "source": [
    "#238 n grams\n",
    "\n",
    "from nltk import ngrams\n",
    "from nltk.tokenize import word_tokenize\n",
    "\n",
    "#let's see 3 grams\n",
    "N=3\n",
    "sentence = 'hi, how are you?'\n",
    "\n",
    "tokenized_sentence = word_tokenize(sentence)\n",
    "\n",
    "#generate n-grams\n",
    "n_grams = list(ngrams(tokenized_sentence,N))"
   ]
  },
  {
   "cell_type": "code",
   "execution_count": 5,
   "metadata": {},
   "outputs": [
    {
     "data": {
      "text/plain": [
       "[('hi', ',', 'how'),\n",
       " (',', 'how', 'are'),\n",
       " ('how', 'are', 'you'),\n",
       " ('are', 'you', '?')]"
      ]
     },
     "execution_count": 5,
     "metadata": {},
     "output_type": "execute_result"
    }
   ],
   "source": [
    "n_grams"
   ]
  },
  {
   "cell_type": "code",
   "execution_count": 6,
   "metadata": {},
   "outputs": [
    {
     "name": "stderr",
     "output_type": "stream",
     "text": [
      "C:\\Users\\meich\\anaconda3\\lib\\site-packages\\sklearn\\linear_model\\_logistic.py:762: ConvergenceWarning: lbfgs failed to converge (status=1):\n",
      "STOP: TOTAL NO. of ITERATIONS REACHED LIMIT.\n",
      "\n",
      "Increase the number of iterations (max_iter) or scale the data as shown in:\n",
      "    https://scikit-learn.org/stable/modules/preprocessing.html\n",
      "Please also refer to the documentation for alternative solver options:\n",
      "    https://scikit-learn.org/stable/modules/linear_model.html#logistic-regression\n",
      "  n_iter_i = _check_optimize_result(\n"
     ]
    },
    {
     "name": "stdout",
     "output_type": "stream",
     "text": [
      "Fold: 0\n",
      "Accuracy = 0.8913\n",
      "\n"
     ]
    },
    {
     "name": "stderr",
     "output_type": "stream",
     "text": [
      "C:\\Users\\meich\\anaconda3\\lib\\site-packages\\sklearn\\linear_model\\_logistic.py:762: ConvergenceWarning: lbfgs failed to converge (status=1):\n",
      "STOP: TOTAL NO. of ITERATIONS REACHED LIMIT.\n",
      "\n",
      "Increase the number of iterations (max_iter) or scale the data as shown in:\n",
      "    https://scikit-learn.org/stable/modules/preprocessing.html\n",
      "Please also refer to the documentation for alternative solver options:\n",
      "    https://scikit-learn.org/stable/modules/linear_model.html#logistic-regression\n",
      "  n_iter_i = _check_optimize_result(\n"
     ]
    },
    {
     "name": "stdout",
     "output_type": "stream",
     "text": [
      "Fold: 1\n",
      "Accuracy = 0.8944\n",
      "\n"
     ]
    },
    {
     "name": "stderr",
     "output_type": "stream",
     "text": [
      "C:\\Users\\meich\\anaconda3\\lib\\site-packages\\sklearn\\linear_model\\_logistic.py:762: ConvergenceWarning: lbfgs failed to converge (status=1):\n",
      "STOP: TOTAL NO. of ITERATIONS REACHED LIMIT.\n",
      "\n",
      "Increase the number of iterations (max_iter) or scale the data as shown in:\n",
      "    https://scikit-learn.org/stable/modules/preprocessing.html\n",
      "Please also refer to the documentation for alternative solver options:\n",
      "    https://scikit-learn.org/stable/modules/linear_model.html#logistic-regression\n",
      "  n_iter_i = _check_optimize_result(\n"
     ]
    },
    {
     "name": "stdout",
     "output_type": "stream",
     "text": [
      "Fold: 2\n",
      "Accuracy = 0.8939\n",
      "\n",
      "Fold: 3\n",
      "Accuracy = 0.8854\n",
      "\n",
      "Fold: 4\n",
      "Accuracy = 0.8946\n",
      "\n"
     ]
    }
   ],
   "source": [
    "## Change the model above to include ngram_range=(1,3) in tfidf_vec parameter\n",
    "\n",
    "import pandas as pd\n",
    "\n",
    "from nltk.tokenize import word_tokenize\n",
    "from sklearn import linear_model\n",
    "from sklearn import metrics\n",
    "from sklearn import model_selection\n",
    "from sklearn.feature_extraction.text import TfidfVectorizer\n",
    "\n",
    "df = pd.read_csv('imdb.csv')\n",
    "    \n",
    "df.sentiment = df.sentiment.apply(lambda x: 1 if x =='positive' else 0)\n",
    "df['kfold'] = -1\n",
    "df = df.sample(frac=1).reset_index(drop=True)\n",
    "y = df.sentiment.values\n",
    "    \n",
    "    #init kfold class\n",
    "kf = model_selection.StratifiedKFold(n_splits=5)\n",
    "    \n",
    "    #fill the new kfold column\n",
    "for f,(t,v) in enumerate(kf.split(X=df,y=y)):\n",
    "    df.loc[v,'kfold'] = f\n",
    "        \n",
    "    #we iterate over folds\n",
    "for fold_ in range(5):\n",
    "        #temp dfs for train and test\n",
    "    train_df = df[df.kfold != fold_].reset_index(drop=True)\n",
    "    test_df = df[df.kfold == fold_].reset_index(drop=True)\n",
    "        \n",
    "        #count vec w NLTK word tokenizer\n",
    "    tfidf_vec = TfidfVectorizer(\n",
    "        tokenizer = word_tokenize,\n",
    "        token_pattern= None,\n",
    "        ngram_range=(1,3)\n",
    "        )\n",
    "        \n",
    "    tfidf_vec.fit(train_df.review)\n",
    "        \n",
    "        #transform train and validation reviews\n",
    "    xtrain = tfidf_vec.transform(train_df.review)\n",
    "    xtest = tfidf_vec.transform(test_df.review)\n",
    "        \n",
    "    model = linear_model.LogisticRegression()\n",
    "        \n",
    "    model.fit(xtrain,train_df.sentiment)\n",
    "        \n",
    "    preds = model.predict(xtest)\n",
    "        \n",
    "    accuracy = metrics.accuracy_score(test_df.sentiment,preds)\n",
    "        \n",
    "    print(f\"Fold: {fold_}\")\n",
    "    print(f\"Accuracy = {accuracy}\")\n",
    "    print(\"\")"
   ]
  },
  {
   "cell_type": "markdown",
   "metadata": {},
   "source": [
    "### Stemming and Lemmatization"
   ]
  },
  {
   "cell_type": "code",
   "execution_count": 7,
   "metadata": {},
   "outputs": [],
   "source": [
    "# Both techniques reduce a word to its smallest form.\n",
    "# Stemming produces the stemmed word, lemmatization produces a lemma (lemmatization is more aggressive and less popular)"
   ]
  },
  {
   "cell_type": "code",
   "execution_count": 10,
   "metadata": {},
   "outputs": [
    {
     "name": "stdout",
     "output_type": "stream",
     "text": [
      "word=grouping\n",
      "stemmed_word=group\n",
      "lemma=grouping\n",
      "\n",
      "word=groups\n",
      "stemmed_word=group\n",
      "lemma=group\n",
      "\n",
      "word=grouped\n",
      "stemmed_word=group\n",
      "lemma=grouped\n",
      "\n",
      "word=groupies\n",
      "stemmed_word=groupi\n",
      "lemma=groupie\n",
      "\n"
     ]
    }
   ],
   "source": [
    "from nltk.stem import WordNetLemmatizer\n",
    "from nltk.stem.snowball import SnowballStemmer\n",
    "\n",
    "#init lemmatizer\n",
    "lemmatizer = WordNetLemmatizer()\n",
    "\n",
    "#init stemmer\n",
    "stemmer = SnowballStemmer('english')\n",
    "\n",
    "words = ['grouping','groups','grouped','groupies']\n",
    "\n",
    "for word in words:\n",
    "    print(f\"word={word}\")\n",
    "    print(f\"stemmed_word={stemmer.stem(word)}\")\n",
    "    print(f\"lemma={lemmatizer.lemmatize(word)}\")\n",
    "    print(\"\")"
   ]
  },
  {
   "cell_type": "markdown",
   "metadata": {},
   "source": [
    "### Word Embeddings (deep learning)"
   ]
  },
  {
   "cell_type": "code",
   "execution_count": 11,
   "metadata": {},
   "outputs": [],
   "source": [
    "# Approach is converting words into word vectors instead of integers for each word\n",
    "# build a network that learns embeddings (vectors) for words. predict missing word by using all words around it, in terms of\n",
    "#   vector distance. network will then learn and update embeddings for all words.\n",
    "#  AKA Continuous Bag of Words (CBoW) model"
   ]
  },
  {
   "cell_type": "code",
   "execution_count": 2,
   "metadata": {},
   "outputs": [],
   "source": [
    "# create a normalized word vector from all word vectors of tokens --> provides 'sentence vector'\n",
    "#pg 246\n",
    "\n",
    "import numpy as np\n",
    "\n",
    "def sentence_to_vec(s, embedding_dict, stop_words, tokenizer):\n",
    "    \"\"\"\n",
    "    Given a sentence and other info,\n",
    "    return embedding for whole sentence\n",
    "    param s = string\n",
    "    param embedding_dict = {dictionary word: vector}\n",
    "    param stop_words = list of stop words\n",
    "    param tokenizer = tokenization fxn\n",
    "    \"\"\"\n",
    "    \n",
    "    #convert setence to string and lowecase it\n",
    "    words  = str(s).lower()\n",
    "    \n",
    "    #tokenize sentence\n",
    "    words = tokenizer(words)\n",
    "    \n",
    "    #remove stopwords\n",
    "    words = [w for w in words if w not in stop_words]\n",
    "    \n",
    "    #keep only alpha-numeric tokens\n",
    "    words = [w for w in words if w.isalpha()]\n",
    "    \n",
    "    #init empty list to store embeddings\n",
    "    M = []\n",
    "    for w in words:\n",
    "        # for every word, fetch embedding from dict and append to list of embeddings\n",
    "        \n",
    "        if w in embedding_dict:\n",
    "            M.append(embedding_dict[w])\n",
    "    \n",
    "    #if no vectors, return zeroes\n",
    "    if len(M) == 0:\n",
    "        return np.zeros(300)\n",
    "    \n",
    "    #convert list of embeddings to array\n",
    "    M = np.array(M)\n",
    "    \n",
    "    #sum over each row\n",
    "    v = M.sum(axis=0)\n",
    "    \n",
    "    #return normed vector\n",
    "    return v / np.sqrt((v**2).sum())\n"
   ]
  },
  {
   "cell_type": "markdown",
   "metadata": {},
   "source": [
    "### Temporal-based Text Classification "
   ]
  },
  {
   "cell_type": "code",
   "execution_count": 4,
   "metadata": {},
   "outputs": [],
   "source": [
    "# pg 250 --- create github for this one w/ project folder as talked about before\n",
    "\n",
    "#create_folds.py ---------------------\n",
    "\n",
    "import pandas as pd\n",
    "from sklearn import model_selection\n",
    "\n",
    "if __name__ == '__main__':\n",
    "    \n",
    "    #read training data\n",
    "    df = pd.read_csv('imdb.csv')\n",
    "    \n",
    "    #map cat to binary\n",
    "    df.sentiment = df.sentiment.apply(lambda x: 1 if x == 'positive' else 0)\n",
    "    \n",
    "    # we create a new column called kfold and fill it with -1\n",
    "    df[\"kfold\"] = -1\n",
    "    \n",
    "    # the next step is to randomize the rows of the data\n",
    "    df = df.sample(frac=1).reset_index(drop=True)\n",
    "\n",
    "    # fetch labels\n",
    "    y = df.sentiment.values\n",
    "\n",
    "    # initiate the kfold class from model_selection module\n",
    "    kf = model_selection.StratifiedKFold(n_splits=5)\n",
    "\n",
    "    # fill the new kfold column\n",
    "    for f, (t_, v_) in enumerate(kf.split(X=df, y=y)):\n",
    "        df.loc[v_, 'kfold'] = f\n",
    "\n",
    "    # save the new csv with kfold column\n",
    "    #df.to_csv(\"../input/imdb_folds.csv\", index=False)"
   ]
  },
  {
   "cell_type": "code",
   "execution_count": 8,
   "metadata": {},
   "outputs": [],
   "source": [
    "# now we create dataset.py, which includes a class which returns one sample of the training or validation data\n",
    "\n",
    "# dataset.py----------------------------\n",
    "\n",
    "\n",
    "import torch\n",
    "\n",
    "class IMDBDataset:\n",
    "    def __init__(self,reviews,targets):\n",
    "        \"\"\"\n",
    "        reviews = numpy array\n",
    "        targets = vector, np array\n",
    "        \"\"\"\n",
    "        self.reviews = reviews\n",
    "        self.targets = targets\n",
    "    def __len__(self):\n",
    "        return len(self.reviews)\n",
    "    \n",
    "    def __getitem__(self,item):\n",
    "        # for a given item, which is int, return review and targets as torch tensor. item is the index\n",
    "        \n",
    "        review = self.reviews[item, :]\n",
    "        target = self.target[item]\n",
    "        \n",
    "        return {\n",
    "            'review':torch.tensor(review,dtype=torch.long),\n",
    "            'target':torch.tensor(target,dtype=torch.float)\n",
    "        }"
   ]
  },
  {
   "cell_type": "code",
   "execution_count": null,
   "metadata": {},
   "outputs": [],
   "source": [
    "# left off pg 252 -- lot of code deep into NLP/ pytorch tensors whiched seemed unnecessary for now"
   ]
  },
  {
   "cell_type": "markdown",
   "metadata": {},
   "source": [
    "# Chapter 11: Approaching Ensembling and Stacking"
   ]
  },
  {
   "cell_type": "code",
   "execution_count": 9,
   "metadata": {},
   "outputs": [],
   "source": [
    "#ensembling is just the act of combining your models, usually in terms of average prediction, or vote (if multiclass)\n",
    "#  **it's much more effective to ensemble very different models than very similar models -- i.e. lower correlation w/\n",
    "#       their predictions."
   ]
  },
  {
   "cell_type": "code",
   "execution_count": null,
   "metadata": {},
   "outputs": [],
   "source": [
    "#quick example\n",
    "import numpy as np\n",
    "\n",
    "def mean_prediction(probas):\n",
    "    return np.mean(probas,axis=1)\n",
    "\n",
    "def max_voting(preds)\n",
    "    idxs = np.argmax(preds,axis=1)\n",
    "    return np.take_along_axis(preds,idxs[:,None],axis=1)\n",
    "\n",
    "#another unique example would be ranks of probabilities - i.e. AUC combination\n",
    "\n",
    "def rank_mean(probas):\n",
    "    \n",
    "    ranked = []\n",
    "    for i in range(probas.shape[1]):\n",
    "        rank_data = stats.rankdata(probas[:,i])\n",
    "        ranked.append(rank_data)\n",
    "    ranked = np.column_stack(ranked)\n",
    "    return np.mean(ranked,axis=1)"
   ]
  },
  {
   "cell_type": "code",
   "execution_count": 30,
   "metadata": {},
   "outputs": [],
   "source": [
    "# important: create folds before optimizing weights of models to ensemble\n",
    "#  -- this primarily applies to situations like AUC, where you NEED weights and can't just avg models or vote\n",
    "\n",
    "\n",
    "import numpy as np\n",
    "from functools import partial\n",
    "from scipy.optimize import fmin\n",
    "from sklearn import metrics\n",
    "\n",
    "class OptimizeAUC:\n",
    "    \"\"\"\n",
    "     Class for optimizing AUC.\n",
    "     This class is all you need to find best weights for\n",
    "     any model and for any metric and for any types of predictions.\n",
    "     With very small changes, this class can be used for optimization of\n",
    "     weights in ensemble models of _any_ type of predictions\n",
    "     \"\"\"\n",
    "    def __init__(self):\n",
    "        self.coef_ = 0\n",
    "        \n",
    "    def _auc(self,coef,X,y):\n",
    "        \"\"\"\n",
    "        This functions calulates and returns AUC.\n",
    "        :param coef: coef list, of the same length as number of models\n",
    "        :param X: predictions, in this case a 2d array\n",
    "        :param y: targets, in our case binary 1d array\n",
    "        \"\"\"\n",
    "        \n",
    "        #multiply coefficients w every column of array with predictions.\n",
    "        #this means element 1 of coef is multiplied by col 1 of prediction array, elem 2 of coef is multiplied by column 2...etc\n",
    "        x_coef = X * coef\n",
    "        \n",
    "        #create predictions by taking row wise sum\n",
    "        predictions = np.sum(x_coef,axis=1)\n",
    "        \n",
    "        #claculate auc score\n",
    "        auc_score = metrics.roc_auc_score(y,predictions)\n",
    "        \n",
    "        #return negative auc\n",
    "        return -1 * auc_score\n",
    "    \n",
    "    def fit(self,X,y):\n",
    "        \n",
    "        #think this has something to do with passing on params to fmin optimize below\n",
    "        loss_partial = partial(self._auc,X=X,y=y)\n",
    "        \n",
    "        # dirichlet distribution. you can use any distribution you want\n",
    "        # to initialize the coefficients\n",
    "        # we want the coefficients to sum to 1\n",
    "        initial_coef = np.random.dirichlet(np.ones(X.shape[1]), size=1)\n",
    "        \n",
    "        # use scipy fmin to minimize the loss function, in our case auc\n",
    "        self.coef_ = fmin(loss_partial, initial_coef, disp=True)\n",
    "    \n",
    "    def predict(self,X):\n",
    "        \n",
    "        # this is similar to _auc fxn\n",
    "        x_coef = X * self.coef_\n",
    "        predictions = np.sum(x_coef,axis=1)\n",
    "        return predictions"
   ]
  },
  {
   "cell_type": "code",
   "execution_count": 31,
   "metadata": {
    "scrolled": true
   },
   "outputs": [
    {
     "name": "stderr",
     "output_type": "stream",
     "text": [
      "C:\\Users\\meich\\anaconda3\\lib\\site-packages\\xgboost\\sklearn.py:1224: UserWarning: The use of label encoder in XGBClassifier is deprecated and will be removed in a future release. To remove this warning, do the following: 1) Pass option use_label_encoder=False when constructing XGBClassifier object; and 2) Encode your labels (y) as integers starting with 0, i.e. 0, 1, 2, ..., [num_class - 1].\n",
      "  warnings.warn(label_encoder_deprecation_msg, UserWarning)\n"
     ]
    },
    {
     "name": "stdout",
     "output_type": "stream",
     "text": [
      "[22:04:49] WARNING: C:/Users/Administrator/workspace/xgboost-win64_release_1.5.1/src/learner.cc:1115: Starting in XGBoost 1.3.0, the default evaluation metric used with the objective 'binary:logistic' was changed from 'error' to 'logloss'. Explicitly set eval_metric if you'd like to restore the old behavior.\n"
     ]
    },
    {
     "name": "stderr",
     "output_type": "stream",
     "text": [
      "C:\\Users\\meich\\anaconda3\\lib\\site-packages\\xgboost\\sklearn.py:1224: UserWarning: The use of label encoder in XGBClassifier is deprecated and will be removed in a future release. To remove this warning, do the following: 1) Pass option use_label_encoder=False when constructing XGBClassifier object; and 2) Encode your labels (y) as integers starting with 0, i.e. 0, 1, 2, ..., [num_class - 1].\n",
      "  warnings.warn(label_encoder_deprecation_msg, UserWarning)\n"
     ]
    },
    {
     "name": "stdout",
     "output_type": "stream",
     "text": [
      "[22:04:51] WARNING: C:/Users/Administrator/workspace/xgboost-win64_release_1.5.1/src/learner.cc:1115: Starting in XGBoost 1.3.0, the default evaluation metric used with the objective 'binary:logistic' was changed from 'error' to 'logloss'. Explicitly set eval_metric if you'd like to restore the old behavior.\n",
      "Optimization terminated successfully.\n",
      "         Current function value: -0.988416\n",
      "         Iterations: 47\n",
      "         Function evaluations: 100\n",
      "Optimized AUC, Fold 2 = 0.9908260741286874\n",
      "Coefficients = [-0.00113085  0.23309621  0.3379401 ]\n",
      "Optimization terminated successfully.\n",
      "         Current function value: -0.990905\n",
      "         Iterations: 43\n",
      "         Function evaluations: 91\n",
      "Optimized AUC, Fold 1 = 0.9884188725880785\n",
      "Coefficients = [-0.05267343  0.78072774  0.87759062]\n"
     ]
    }
   ],
   "source": [
    "#implementing optimizeAUC\n",
    "# pg 277\n",
    "\n",
    "import xgboost as xgb\n",
    "from sklearn.datasets import make_classification\n",
    "from sklearn import ensemble\n",
    "from sklearn import linear_model\n",
    "from sklearn import metrics\n",
    "from sklearn import model_selection\n",
    "import numpy as np\n",
    "\n",
    "#make binary classification dataset w 10k samples and 25 features\n",
    "X,y = make_classification(n_samples=10000,n_features=25)\n",
    "\n",
    "#split into two folds (just example, do more normally)\n",
    "xfold1, xfold2, yfold1, yfold2 = model_selection.train_test_split(X,y,test_size=0.5,stratify=y)\n",
    "\n",
    "#fit models on fold 1 and make predictions on fold 2\n",
    "# we have 3 models:\n",
    "# logistic regression, random forest and xgboost\n",
    "logreg = linear_model.LogisticRegression()\n",
    "rf = ensemble.RandomForestClassifier()\n",
    "xgbc = xgb.XGBClassifier()\n",
    "\n",
    "#fit all models on fold 1 data\n",
    "logreg.fit(xfold1,yfold1)\n",
    "rf.fit(xfold1, yfold1)\n",
    "xgbc.fit(xfold1, yfold1)\n",
    "\n",
    "#predict all models on fold 2\n",
    "# take probability for class 1\n",
    "pred_logreg = logreg.predict_proba(xfold2)[:, 1]\n",
    "pred_rf = rf.predict_proba(xfold2)[:, 1]\n",
    "pred_xgbc = xgbc.predict_proba(xfold2)[:, 1]\n",
    "\n",
    "#create average of all predictions\n",
    "avg_pred = (pred_logreg + pred_rf + pred_xgbc) /3\n",
    "\n",
    "#a 2d array of all predictions\n",
    "fold2_preds = np.column_stack((pred_logreg,pred_rf,pred_xgbc,avg_pred))\n",
    "\n",
    "#store individual AUC values\n",
    "aucs_fold2 = []\n",
    "for i in range(fold2_preds.shape[1]):\n",
    "    auc = metrics.roc_auc_score(yfold2,fold2_preds[:,i])\n",
    "    aucs_fold2.append(auc)\n",
    "    \n",
    "    \n",
    "#----------------now we repeat for other fold - NOT IDEAL -- if you ever have to repeat code, create a fxn--------------##\n",
    "logreg = linear_model.LogisticRegression()\n",
    "rf = ensemble.RandomForestClassifier()\n",
    "xgbc = xgb.XGBClassifier()\n",
    "logreg.fit(xfold2, yfold2)\n",
    "rf.fit(xfold2, yfold2)\n",
    "xgbc.fit(xfold2, yfold2)\n",
    "pred_logreg = logreg.predict_proba(xfold1)[:, 1]\n",
    "pred_rf = rf.predict_proba(xfold1)[:, 1]\n",
    "pred_xgbc = xgbc.predict_proba(xfold1)[:, 1]\n",
    "avg_pred = (pred_logreg + pred_rf + pred_xgbc) / 3\n",
    "\n",
    "fold1_preds = np.column_stack((pred_logreg,pred_rf,pred_xgbc,avg_pred))\n",
    "\n",
    "#store individual AUC values\n",
    "aucs_fold1 = []\n",
    "for i in range(fold1_preds.shape[1]):\n",
    "    auc = metrics.roc_auc_score(yfold1,fold1_preds[:,i])\n",
    "    aucs_fold1.append(auc)\n",
    "    \n",
    "\n",
    "# find optimal weights using the optimizer\n",
    "opt = OptimizeAUC()\n",
    "# dont forget to remove the average column\n",
    "opt.fit(fold1_preds[:, :-1], yfold1)\n",
    "opt_preds_fold2 = opt.predict(fold2_preds[:, :-1])\n",
    "auc = metrics.roc_auc_score(yfold2, opt_preds_fold2)\n",
    "print(f\"Optimized AUC, Fold 2 = {auc}\")\n",
    "print(f\"Coefficients = {opt.coef_}\")\n",
    "\n",
    "opt = OptimizeAUC()\n",
    "opt.fit(fold2_preds[:, :-1], yfold2)\n",
    "opt_preds_fold1 = opt.predict(fold1_preds[:, :-1])\n",
    "auc = metrics.roc_auc_score(yfold1, opt_preds_fold1)\n",
    "print(f\"Optimized AUC, Fold 1 = {auc}\")\n",
    "print(f\"Coefficients = {opt.coef_}\")"
   ]
  },
  {
   "cell_type": "markdown",
   "metadata": {},
   "source": [
    "# Approaching reproducible code & model serving"
   ]
  },
  {
   "cell_type": "code",
   "execution_count": 33,
   "metadata": {},
   "outputs": [],
   "source": [
    "# docker containers - considered small virtual machines to let code be reproduced on any computer\n",
    "\n",
    "# for more on this, pg 283.\n",
    "# for now, should get used to storing code on git, w proper documentation, and code segmenting"
   ]
  }
 ],
 "metadata": {
  "kernelspec": {
   "display_name": "Python 3",
   "language": "python",
   "name": "python3"
  },
  "language_info": {
   "codemirror_mode": {
    "name": "ipython",
    "version": 3
   },
   "file_extension": ".py",
   "mimetype": "text/x-python",
   "name": "python",
   "nbconvert_exporter": "python",
   "pygments_lexer": "ipython3",
   "version": "3.8.5"
  }
 },
 "nbformat": 4,
 "nbformat_minor": 4
}
